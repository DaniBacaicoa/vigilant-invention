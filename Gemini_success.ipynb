{
 "cells": [
  {
   "cell_type": "code",
   "execution_count": 10,
   "metadata": {},
   "outputs": [],
   "source": [
    "\"\"\"\n",
    "At the command line, only need to run once to install the package via pip:\n",
    "\n",
    "$ pip install google-generativeai\n",
    "\"\"\"\n",
    "\n",
    "import google.generativeai as genai\n",
    "from dotenv import load_dotenv\n",
    "\n",
    "import os\n",
    "import pathlib\n",
    "\n",
    "path_env = pathlib.Path(os.getcwd()) / '.env'\n",
    "load_dotenv(path_env)\n",
    "gemini_api_key = os.getenv(\"GEMINI_API_KEY\")\n",
    "genai.configure(api_key=gemini_api_key)\n",
    "\n",
    "# Set up the model\n",
    "generation_config = {\n",
    "  \"temperature\": 0.1,\n",
    "  \"top_p\": 1,\n",
    "  \"top_k\": 1,\n",
    "  \"max_output_tokens\": 2048,\n",
    "}\n",
    "\n",
    "safety_settings = [\n",
    "  {\n",
    "    \"category\": \"HARM_CATEGORY_HARASSMENT\",\n",
    "    \"threshold\": \"BLOCK_MEDIUM_AND_ABOVE\"\n",
    "  },\n",
    "  {\n",
    "    \"category\": \"HARM_CATEGORY_HATE_SPEECH\",\n",
    "    \"threshold\": \"BLOCK_MEDIUM_AND_ABOVE\"\n",
    "  },\n",
    "  {\n",
    "    \"category\": \"HARM_CATEGORY_SEXUALLY_EXPLICIT\",\n",
    "    \"threshold\": \"BLOCK_MEDIUM_AND_ABOVE\"\n",
    "  },\n",
    "  {\n",
    "    \"category\": \"HARM_CATEGORY_DANGEROUS_CONTENT\",\n",
    "    \"threshold\": \"BLOCK_MEDIUM_AND_ABOVE\"\n",
    "  },\n",
    "]\n",
    "\n",
    "model = genai.GenerativeModel(model_name=\"gemini-1.0-pro\",\n",
    "                              generation_config=generation_config,\n",
    "                              safety_settings=safety_settings)\n",
    "\n",
    "convo = model.start_chat(history=[\n",
    "  {\n",
    "    \"role\": \"user\",\n",
    "    \"parts\": [\"essay on ai\"]\n",
    "  },\n",
    "  {\n",
    "    \"role\": \"model\",\n",
    "    \"parts\": [\"**Artificial Intelligence: A Paradigm Shift**\\n\\nArtificial intelligence (AI) has emerged as a transformative force in contemporary society, reshaping industries, redefining work, and blurring the lines between human and machine capabilities. This essay delves into the profound implications of AI, exploring its potential benefits and challenges while considering its impact on the future of humanity.\\n\\n**Benefits of AI**\\n\\nOne of the most significant benefits of AI is its ability to automate tasks, freeing up human workers for more complex and fulfilling endeavors. AI-powered systems can perform mundane and repetitive tasks with precision and efficiency, enabling businesses to optimize their operations and reduce costs. This has led to increased productivity and economic growth across various sectors.\\n\\nFurthermore, AI has proven invaluable in solving complex problems. Machine learning algorithms can analyze vast amounts of data to identify patterns and make predictions that assist in decision-making. For instance, AI systems are used in healthcare to diagnose diseases, predict patient outcomes, and develop personalized treatment plans.\\n\\nAI also has the potential to improve accessibility and equality. By automating routine tasks and providing personalized experiences, AI can help break down barriers for individuals with disabilities or limited access to resources. For example, AI-powered assistive technologies enable people with physical impairments to interact with the world more effectively.\\n\\n**Challenges of AI**\\n\\nWhile AI offers immense promise, it also presents several significant challenges. One of the most pressing concerns is the potential for job displacement. As AI becomes more sophisticated, it could automate tasks currently performed by human workers, leading to job losses in certain industries.\\n\\nAnother challenge is the ethical implications of AI. As AI systems become increasingly autonomous, questions arise about their moral agency and accountability. For instance, if an AI-powered self-driving car causes an accident, who is responsible: the driver, the manufacturer, or the programmer?\\n\\nMoreover, AI-powered systems are prone to biases if the data they are trained on is biased. This can result in unfair or discriminatory decisions, exacerbating existing social inequalities. It is essential to address these biases through proper data collection and algorithmic transparency.\\n\\n**Impact on the Future**\\n\\nAI is expected to continue to play an increasingly prominent role in our lives in the years to come. It has the potential to transform industries, disrupt existing business models, and create entirely new economic opportunities. As AI becomes more advanced, it could lead to breakthroughs in fields such as healthcare, transportation, and manufacturing.\\n\\nThe future of AI-human interaction is also uncertain. As AI systems become more intelligent, there is a possibility that they could develop their own consciousness and agency. This raises questions about the relationship between humans and machines and the ethical implications of creating artificial beings.\\n\\n**Conclusion**\\n\\nArtificial intelligence is a powerful technology with the potential to both benefit and challenge humanity. Its benefits include increased productivity, improved problem-solving capabilities, and enhanced accessibility. However, it also poses challenges such as job displacement, ethical dilemmas, and biases. As AI continues to evolve, it is imperative to navigate these challenges thoughtfully and ensure that this transformative technology is used for the betterment of society.\\n\\nBy harnessing the potential of AI while mitigating its risks, we can create a future in which humans and machines collaborate harmoniously, unlocking unprecedented opportunities for progress and prosperity. The development and deployment of AI must be guided by ethical principles, ensuring that it is deployed responsibly and for the benefit of all.\"]\n",
    "  },\n",
    "])\n",
    "\n",
    "convo.send_message(\"A python dictionary with the 10 most relevant keywords related with 'cancer' along with their importance weight (from 0 to 10). Do not include the word itself\")\n",
    "answer = convo.last.text"
   ]
  },
  {
   "cell_type": "code",
   "execution_count": 38,
   "metadata": {},
   "outputs": [],
   "source": [
    "string_dict = answer.strip('```python').strip()\n",
    "exec(string_dict)"
   ]
  },
  {
   "cell_type": "code",
   "execution_count": 14,
   "metadata": {},
   "outputs": [
    {
     "data": {
      "text/plain": [
       "{'tumor': 10,\n",
       " 'malignant': 9,\n",
       " 'oncology': 8,\n",
       " 'chemotherapy': 7,\n",
       " 'radiation therapy': 7,\n",
       " 'metastasis': 6,\n",
       " 'biopsy': 5,\n",
       " 'prognosis': 5,\n",
       " 'carcinogenesis': 4,\n",
       " 'epidemiology': 4}"
      ]
     },
     "execution_count": 14,
     "metadata": {},
     "output_type": "execute_result"
    }
   ],
   "source": [
    "#cancer_keywords"
   ]
  },
  {
   "cell_type": "code",
   "execution_count": 16,
   "metadata": {},
   "outputs": [
    {
     "name": "stdout",
     "output_type": "stream",
     "text": [
      "A python dictionary with the 2 most relevant keywords related with 'Hello' along with their importance weight (from 0 to 10). Do not include the word itself\n"
     ]
    }
   ],
   "source": [
    "num_kwds = 2\n",
    "cat = 'Hello'\n",
    "print(f\"A python dictionary with the {num_kwds} most relevant keywords related with '{cat}' along with their importance weight (from 0 to 10). Do not include the word itself\")"
   ]
  },
  {
   "cell_type": "code",
   "execution_count": null,
   "metadata": {},
   "outputs": [],
   "source": []
  }
 ],
 "metadata": {
  "kernelspec": {
   "display_name": ".venv",
   "language": "python",
   "name": "python3"
  },
  "language_info": {
   "codemirror_mode": {
    "name": "ipython",
    "version": 3
   },
   "file_extension": ".py",
   "mimetype": "text/x-python",
   "name": "python",
   "nbconvert_exporter": "python",
   "pygments_lexer": "ipython3",
   "version": "3.12.2"
  }
 },
 "nbformat": 4,
 "nbformat_minor": 2
}
