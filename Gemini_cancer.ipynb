{
 "cells": [
  {
   "cell_type": "code",
   "execution_count": 35,
   "metadata": {},
   "outputs": [],
   "source": [
    "from src.kwd_generator_gemini import GeminiKeywordGenerator\n",
    "from datetime import datetime\n",
    "import pickle"
   ]
  },
  {
   "cell_type": "code",
   "execution_count": 2,
   "metadata": {},
   "outputs": [],
   "source": [
    "kw_generator = GeminiKeywordGenerator()"
   ]
  },
  {
   "cell_type": "markdown",
   "metadata": {},
   "source": [
    "## Data generation\n",
    "\n",
    "We will generate the keywords."
   ]
  },
  {
   "cell_type": "code",
   "execution_count": 6,
   "metadata": {},
   "outputs": [],
   "source": [
    "Read = False\n",
    "w0 = 'cancer'   # Topic\n",
    "n0 = 40         # Keywords related with first topic \n",
    "n1 = 100        # Keywords related with subsequent topics"
   ]
  },
  {
   "cell_type": "code",
   "execution_count": 7,
   "metadata": {},
   "outputs": [],
   "source": [
    "answer = kw_generator.get_kwds(w0,n0)"
   ]
  },
  {
   "cell_type": "code",
   "execution_count": 16,
   "metadata": {},
   "outputs": [],
   "source": [
    "string_dict = answer.strip('```python').strip()\n",
    "foo={}\n",
    "exec(string_dict,None,foo)"
   ]
  },
  {
   "cell_type": "code",
   "execution_count": 23,
   "metadata": {},
   "outputs": [
    {
     "data": {
      "text/plain": [
       "{'tumor': 10,\n",
       " 'cancer cells': 9,\n",
       " 'malignant': 9,\n",
       " 'metastasis': 8,\n",
       " 'chemotherapy': 8,\n",
       " 'radiation therapy': 8,\n",
       " 'surgery': 8,\n",
       " 'prognosis': 7,\n",
       " 'biopsy': 7,\n",
       " 'oncology': 7,\n",
       " 'carcinogenesis': 7,\n",
       " 'epidemiology': 6,\n",
       " 'prevention': 6,\n",
       " 'screening': 6,\n",
       " 'diagnosis': 6,\n",
       " 'treatment': 6,\n",
       " 'palliative care': 6,\n",
       " 'immunotherapy': 6,\n",
       " 'targeted therapy': 6,\n",
       " 'genetics': 5,\n",
       " 'molecular biology': 5,\n",
       " 'biomarkers': 5,\n",
       " 'clinical trials': 5,\n",
       " 'public health': 5,\n",
       " 'health policy': 5,\n",
       " 'quality of life': 5,\n",
       " 'survivorship': 5,\n",
       " 'end-of-life care': 5,\n",
       " 'ethics': 4,\n",
       " 'health disparities': 4,\n",
       " 'global health': 4,\n",
       " 'cancer research': 4,\n",
       " 'cancer awareness': 4,\n",
       " 'cancer advocacy': 4,\n",
       " 'cancer support': 4,\n",
       " 'cancer information': 4,\n",
       " 'cancer resources': 4,\n",
       " 'cancer community': 4}"
      ]
     },
     "execution_count": 23,
     "metadata": {},
     "output_type": "execute_result"
    }
   ],
   "source": [
    "foo[list(foo.keys())[0]]"
   ]
  },
  {
   "cell_type": "code",
   "execution_count": 24,
   "metadata": {},
   "outputs": [],
   "source": [
    "if Read == False:\n",
    "    L0 = []\n",
    "    keys0 = kw_generator.get_kwds(w0,n0)\n",
    "    string_dict = answer.strip('```python').strip()\n",
    "    foo={}\n",
    "    exec(string_dict,None,foo)\n",
    "    kwds0 = foo[list(foo.keys())[0]]\n",
    "    kwds0 = {**{w0:0},**kwds0}\n",
    "    L0.append(kwds0)\n"
   ]
  },
  {
   "cell_type": "code",
   "execution_count": 29,
   "metadata": {},
   "outputs": [
    {
     "name": "stdout",
     "output_type": "stream",
     "text": [
      "tumor\n",
      "cancer cells\n",
      "malignant\n",
      "metastasis\n",
      "chemotherapy\n",
      "radiation therapy\n",
      "surgery\n",
      "prognosis\n",
      "biopsy\n"
     ]
    },
    {
     "ename": "ValueError",
     "evalue": "The `response.text` quick accessor only works when the response contains a valid `Part`, but none was returned. Check the `candidate.safety_ratings` to see if the response was blocked.",
     "output_type": "error",
     "traceback": [
      "\u001b[1;31m---------------------------------------------------------------------------\u001b[0m",
      "\u001b[1;31mValueError\u001b[0m                                Traceback (most recent call last)",
      "Cell \u001b[1;32mIn[29], line 6\u001b[0m\n\u001b[0;32m      4\u001b[0m \u001b[38;5;28;01mif\u001b[39;00m e \u001b[38;5;241m>\u001b[39m \u001b[38;5;28mlen\u001b[39m(L1):\n\u001b[0;32m      5\u001b[0m     \u001b[38;5;28mprint\u001b[39m(kwd)\n\u001b[1;32m----> 6\u001b[0m     keys \u001b[38;5;241m=\u001b[39m \u001b[43mkw_generator\u001b[49m\u001b[38;5;241;43m.\u001b[39;49m\u001b[43mget_kwds\u001b[49m\u001b[43m(\u001b[49m\u001b[43mkwd\u001b[49m\u001b[43m,\u001b[49m\u001b[43mn1\u001b[49m\u001b[43m)\u001b[49m\n\u001b[0;32m      7\u001b[0m     string_dict \u001b[38;5;241m=\u001b[39m answer\u001b[38;5;241m.\u001b[39mstrip(\u001b[38;5;124m'\u001b[39m\u001b[38;5;124m```python\u001b[39m\u001b[38;5;124m'\u001b[39m)\u001b[38;5;241m.\u001b[39mstrip()\n\u001b[0;32m      8\u001b[0m     foo\u001b[38;5;241m=\u001b[39m{}\n",
      "File \u001b[1;32mc:\\Users\\danibacaicoa\\vscode_projects\\vigilant-invention\\src\\kwd_generator_gemini.py:74\u001b[0m, in \u001b[0;36mGeminiKeywordGenerator.get_kwds\u001b[1;34m(self, cat, num_kwds)\u001b[0m\n\u001b[0;32m     63\u001b[0m convo \u001b[38;5;241m=\u001b[39m \u001b[38;5;28mself\u001b[39m\u001b[38;5;241m.\u001b[39mmodel\u001b[38;5;241m.\u001b[39mstart_chat(history\u001b[38;5;241m=\u001b[39m[\n\u001b[0;32m     64\u001b[0m     {\n\u001b[0;32m     65\u001b[0m         \u001b[38;5;124m\"\u001b[39m\u001b[38;5;124mrole\u001b[39m\u001b[38;5;124m\"\u001b[39m: \u001b[38;5;124m\"\u001b[39m\u001b[38;5;124muser\u001b[39m\u001b[38;5;124m\"\u001b[39m,\n\u001b[1;32m   (...)\u001b[0m\n\u001b[0;32m     71\u001b[0m     },\n\u001b[0;32m     72\u001b[0m     ])\n\u001b[0;32m     73\u001b[0m convo\u001b[38;5;241m.\u001b[39msend_message(\u001b[38;5;124mf\u001b[39m\u001b[38;5;124m\"\u001b[39m\u001b[38;5;124mA python dictionary with the \u001b[39m\u001b[38;5;132;01m{\u001b[39;00mnum_kwds\u001b[38;5;132;01m}\u001b[39;00m\u001b[38;5;124m most relevant keywords related with \u001b[39m\u001b[38;5;124m'\u001b[39m\u001b[38;5;132;01m{\u001b[39;00mcat\u001b[38;5;132;01m}\u001b[39;00m\u001b[38;5;124m'\u001b[39m\u001b[38;5;124m along with their importance weight (from 0 to 10). Do not include the word itself.\u001b[39m\u001b[38;5;124m\"\u001b[39m)\n\u001b[1;32m---> 74\u001b[0m \u001b[38;5;28;01mreturn\u001b[39;00m \u001b[43mconvo\u001b[49m\u001b[38;5;241;43m.\u001b[39;49m\u001b[43mlast\u001b[49m\u001b[38;5;241;43m.\u001b[39;49m\u001b[43mtext\u001b[49m\n",
      "File \u001b[1;32mc:\\Users\\danibacaicoa\\vscode_projects\\vigilant-invention\\.venv\\Lib\\site-packages\\google\\generativeai\\types\\generation_types.py:333\u001b[0m, in \u001b[0;36mBaseGenerateContentResponse.text\u001b[1;34m(self)\u001b[0m\n\u001b[0;32m    331\u001b[0m parts \u001b[38;5;241m=\u001b[39m \u001b[38;5;28mself\u001b[39m\u001b[38;5;241m.\u001b[39mparts\n\u001b[0;32m    332\u001b[0m \u001b[38;5;28;01mif\u001b[39;00m \u001b[38;5;129;01mnot\u001b[39;00m parts:\n\u001b[1;32m--> 333\u001b[0m     \u001b[38;5;28;01mraise\u001b[39;00m \u001b[38;5;167;01mValueError\u001b[39;00m(\n\u001b[0;32m    334\u001b[0m         \u001b[38;5;124m\"\u001b[39m\u001b[38;5;124mThe `response.text` quick accessor only works when the response contains a valid \u001b[39m\u001b[38;5;124m\"\u001b[39m\n\u001b[0;32m    335\u001b[0m         \u001b[38;5;124m\"\u001b[39m\u001b[38;5;124m`Part`, but none was returned. Check the `candidate.safety_ratings` to see if the \u001b[39m\u001b[38;5;124m\"\u001b[39m\n\u001b[0;32m    336\u001b[0m         \u001b[38;5;124m\"\u001b[39m\u001b[38;5;124mresponse was blocked.\u001b[39m\u001b[38;5;124m\"\u001b[39m\n\u001b[0;32m    337\u001b[0m     )\n\u001b[0;32m    339\u001b[0m \u001b[38;5;28;01mif\u001b[39;00m \u001b[38;5;28mlen\u001b[39m(parts) \u001b[38;5;241m!=\u001b[39m \u001b[38;5;241m1\u001b[39m \u001b[38;5;129;01mor\u001b[39;00m \u001b[38;5;124m\"\u001b[39m\u001b[38;5;124mtext\u001b[39m\u001b[38;5;124m\"\u001b[39m \u001b[38;5;129;01mnot\u001b[39;00m \u001b[38;5;129;01min\u001b[39;00m parts[\u001b[38;5;241m0\u001b[39m]:\n\u001b[0;32m    340\u001b[0m     \u001b[38;5;28;01mraise\u001b[39;00m \u001b[38;5;167;01mValueError\u001b[39;00m(\n\u001b[0;32m    341\u001b[0m         \u001b[38;5;124m\"\u001b[39m\u001b[38;5;124mThe `response.text` quick accessor only works for \u001b[39m\u001b[38;5;124m\"\u001b[39m\n\u001b[0;32m    342\u001b[0m         \u001b[38;5;124m\"\u001b[39m\u001b[38;5;124msimple (single-`Part`) text responses. This response is not simple text. \u001b[39m\u001b[38;5;124m\"\u001b[39m\n\u001b[1;32m   (...)\u001b[0m\n\u001b[0;32m    345\u001b[0m         \u001b[38;5;124m\"\u001b[39m\u001b[38;5;124minstead.\u001b[39m\u001b[38;5;124m\"\u001b[39m\n\u001b[0;32m    346\u001b[0m     )\n",
      "\u001b[1;31mValueError\u001b[0m: The `response.text` quick accessor only works when the response contains a valid `Part`, but none was returned. Check the `candidate.safety_ratings` to see if the response was blocked."
     ]
    }
   ],
   "source": [
    "if Read == False:\n",
    "    #L1 = []\n",
    "    for e, kwd in enumerate(L0[0]):\n",
    "        if e > len(L1):\n",
    "            print(kwd)\n",
    "            keys = kw_generator.get_kwds(kwd,n1)\n",
    "            string_dict = answer.strip('```python').strip()\n",
    "            foo={}\n",
    "            exec(string_dict,None,foo)\n",
    "            kwds = foo[list(foo.keys())[0]]\n",
    "            kwds = {**{kwd:0},**kwds}\n",
    "            L1.append(kwds)\n"
   ]
  },
  {
   "cell_type": "code",
   "execution_count": 32,
   "metadata": {},
   "outputs": [
    {
     "name": "stdout",
     "output_type": "stream",
     "text": [
      "cancer support\n",
      "cancer information\n",
      "cancer resources\n",
      "cancer community\n"
     ]
    }
   ],
   "source": [
    "for e, kwd in enumerate(L0[0]):\n",
    "    if e > len(L1):\n",
    "        print(kwd)\n",
    "        keys = kw_generator.get_kwds(kwd,n1)\n",
    "        string_dict = answer.strip('```python').strip()\n",
    "        foo={}\n",
    "        exec(string_dict,None,foo)\n",
    "        kwds = foo[list(foo.keys())[0]]\n",
    "        kwds = {**{kwd:0},**kwds}\n",
    "        L1.append(kwds)\n"
   ]
  },
  {
   "cell_type": "code",
   "execution_count": 36,
   "metadata": {},
   "outputs": [
    {
     "name": "stderr",
     "output_type": "stream",
     "text": [
      "<>:4: SyntaxWarning: invalid escape sequence '\\G'\n",
      "<>:4: SyntaxWarning: invalid escape sequence '\\G'\n",
      "C:\\Users\\danibacaicoa\\AppData\\Local\\Temp\\ipykernel_28912\\3895660754.py:4: SyntaxWarning: invalid escape sequence '\\G'\n",
      "  file_name = f'Keywords_datasets\\Gemini_{w0}_keywords_{fecha.year}{fecha.month:02d}{fecha.day:02d}.pickle'\n"
     ]
    }
   ],
   "source": [
    "if Read == False:\n",
    "    L = [L0,L1]\n",
    "    fecha = datetime.now()\n",
    "    file_name = f'Keywords_datasets\\Gemini_{w0}_keywords_{fecha.year}{fecha.month:02d}{fecha.day:02d}.pickle'\n",
    "\n",
    "    # We could do it with:\n",
    "    f = open(file_name, 'wb')\n",
    "    pickle.dump(L, f)\n",
    "    f.close()\n"
   ]
  },
  {
   "cell_type": "code",
   "execution_count": 37,
   "metadata": {},
   "outputs": [
    {
     "name": "stdout",
     "output_type": "stream",
     "text": [
      "38\n",
      "38\n",
      "38\n",
      "38\n",
      "38\n",
      "38\n",
      "38\n",
      "38\n",
      "38\n",
      "38\n",
      "38\n",
      "38\n",
      "38\n",
      "38\n",
      "38\n",
      "38\n",
      "38\n",
      "38\n",
      "38\n",
      "38\n",
      "38\n",
      "38\n",
      "38\n",
      "38\n",
      "38\n",
      "38\n",
      "38\n",
      "38\n",
      "38\n",
      "38\n",
      "38\n",
      "38\n",
      "38\n",
      "38\n",
      "38\n",
      "38\n",
      "38\n",
      "38\n"
     ]
    }
   ],
   "source": [
    "for dictionary in L[1]:\n",
    "    print(len(dictionary))"
   ]
  }
 ],
 "metadata": {
  "kernelspec": {
   "display_name": ".venv",
   "language": "python",
   "name": "python3"
  },
  "language_info": {
   "codemirror_mode": {
    "name": "ipython",
    "version": 3
   },
   "file_extension": ".py",
   "mimetype": "text/x-python",
   "name": "python",
   "nbconvert_exporter": "python",
   "pygments_lexer": "ipython3",
   "version": "3.12.2"
  }
 },
 "nbformat": 4,
 "nbformat_minor": 2
}
