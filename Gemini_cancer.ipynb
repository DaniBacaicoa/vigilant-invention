{
 "cells": [
  {
   "cell_type": "code",
   "execution_count": 2,
   "metadata": {},
   "outputs": [
    {
     "name": "stderr",
     "output_type": "stream",
     "text": [
      "c:\\Users\\danibacaicoa\\vscode_projects\\vigilant-invention\\.venv\\Lib\\site-packages\\tqdm\\auto.py:21: TqdmWarning: IProgress not found. Please update jupyter and ipywidgets. See https://ipywidgets.readthedocs.io/en/stable/user_install.html\n",
      "  from .autonotebook import tqdm as notebook_tqdm\n"
     ]
    }
   ],
   "source": [
    "from src.kwd_generator_gemini import GeminiKeywordGenerator"
   ]
  },
  {
   "cell_type": "code",
   "execution_count": 3,
   "metadata": {},
   "outputs": [],
   "source": [
    "kw_generator = GeminiKeywordGenerator()"
   ]
  },
  {
   "cell_type": "code",
   "execution_count": 4,
   "metadata": {},
   "outputs": [],
   "source": [
    "answer = kw_generator.get_kwds('cancer',10)"
   ]
  },
  {
   "cell_type": "code",
   "execution_count": 29,
   "metadata": {},
   "outputs": [],
   "source": [
    "string_dict = answer.strip('```python').strip()\n",
    "foo = {}\n",
    "exec(string_dict,None,foo)\n",
    "#foo = eval(string_dict) \n",
    "foo2 = list(foo.values())\n",
    "foo3 = list(foo.values())\n",
    "foo4 = foo2.append(foo3) \n",
    "foo4"
   ]
  },
  {
   "cell_type": "code",
   "execution_count": 6,
   "metadata": {},
   "outputs": [
    {
     "data": {
      "text/plain": [
       "{'tumor': 10,\n",
       " 'malignant': 9,\n",
       " 'oncology': 8,\n",
       " 'chemotherapy': 7,\n",
       " 'radiation therapy': 7,\n",
       " 'metastasis': 6,\n",
       " 'biopsy': 5,\n",
       " 'prognosis': 5,\n",
       " 'carcinogenesis': 4,\n",
       " 'epidemiology': 4}"
      ]
     },
     "execution_count": 6,
     "metadata": {},
     "output_type": "execute_result"
    }
   ],
   "source": [
    "cancer_keywords"
   ]
  },
  {
   "cell_type": "code",
   "execution_count": 11,
   "metadata": {},
   "outputs": [],
   "source": [
    "keywords0 = [cancer_keywords,]\n",
    "keywords1 = []\n",
    "keywords2 = []"
   ]
  },
  {
   "cell_type": "code",
   "execution_count": 7,
   "metadata": {},
   "outputs": [
    {
     "name": "stdout",
     "output_type": "stream",
     "text": [
      "tumor\n",
      "malignant\n",
      "oncology\n",
      "chemotherapy\n",
      "radiation therapy\n",
      "metastasis\n",
      "biopsy\n",
      "prognosis\n",
      "carcinogenesis\n",
      "epidemiology\n"
     ]
    }
   ],
   "source": [
    "for key in cancer_keywords:\n",
    "    answer = kw_generator.get_kwds(key,20)\n",
    "    string_dict = answer.strip('```python').strip()\n",
    "    exec(string_dict)"
   ]
  },
  {
   "cell_type": "code",
   "execution_count": 43,
   "metadata": {},
   "outputs": [
    {
     "data": {
      "text/plain": [
       "'cancer'"
      ]
     },
     "execution_count": 43,
     "metadata": {},
     "output_type": "execute_result"
    }
   ],
   "source": [
    "import re\n",
    "pattern = r\".+?(?=_keywords)\"\n",
    "match = re.search(pattern, string_dict)\n",
    "exec(match.group(0) +'='\n",
    "\n"
   ]
  },
  {
   "cell_type": "code",
   "execution_count": null,
   "metadata": {},
   "outputs": [],
   "source": [
    "string"
   ]
  }
 ],
 "metadata": {
  "kernelspec": {
   "display_name": ".venv",
   "language": "python",
   "name": "python3"
  },
  "language_info": {
   "codemirror_mode": {
    "name": "ipython",
    "version": 3
   },
   "file_extension": ".py",
   "mimetype": "text/x-python",
   "name": "python",
   "nbconvert_exporter": "python",
   "pygments_lexer": "ipython3",
   "version": "3.12.2"
  }
 },
 "nbformat": 4,
 "nbformat_minor": 2
}
