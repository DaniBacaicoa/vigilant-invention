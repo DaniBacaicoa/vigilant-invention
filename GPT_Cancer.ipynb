{
 "cells": [
  {
   "cell_type": "code",
   "execution_count": 1,
   "metadata": {},
   "outputs": [],
   "source": [
    "from src.gpt_personalized_keyword_generator import KeywordGenerator\n",
    "import os\n",
    "import pathlib\n",
    "\n",
    "from dotenv import load_dotenv, find_dotenv\n",
    "from openai import OpenAI\n",
    "\n",
    "import pandas as pd\n",
    "import networkx as nx\n",
    "\n",
    "import matplotlib.pyplot as plt\n",
    "import numpy as np\n",
    "from datetime import datetime\n",
    "\n",
    "import re"
   ]
  },
  {
   "cell_type": "code",
   "execution_count": 2,
   "metadata": {},
   "outputs": [],
   "source": [
    "kw_generator = KeywordGenerator(model='gpt-3.5-turbo')\n",
    "w0 = 'cancer' "
   ]
  },
  {
   "cell_type": "markdown",
   "metadata": {},
   "source": [
    "## Data generation\n",
    "We will generate the keywords. After that we will save them si if you want to generate new ones"
   ]
  },
  {
   "cell_type": "code",
   "execution_count": 3,
   "metadata": {},
   "outputs": [],
   "source": [
    "fecha = datetime.now()\n",
    "file_name = f'{w0}_keywords_{fecha.year}{fecha.month:02d}{fecha.day:02d}.pickle'"
   ]
  },
  {
   "cell_type": "code",
   "execution_count": 4,
   "metadata": {},
   "outputs": [],
   "source": [
    "Read = False\n",
    "w0 = 'cancer'   # Topic\n",
    "n0 = 40         # Keywords related with first topic \n",
    "n1 = 100        # Keywords related with subsequent topics\n",
    "\n",
    "\n",
    "\n"
   ]
  },
  {
   "cell_type": "code",
   "execution_count": 5,
   "metadata": {},
   "outputs": [],
   "source": [
    "L0 = [] #This is the dictionary for the first level\n",
    "keys1 = kw_generator.kwds_prompt(w0,n0)\n"
   ]
  },
  {
   "cell_type": "code",
   "execution_count": 6,
   "metadata": {},
   "outputs": [
    {
     "data": {
      "text/plain": [
       "{'tumor': 9,\n",
       " 'chemotherapy': 8,\n",
       " 'radiation': 7,\n",
       " 'metastasis': 6,\n",
       " 'oncogene': 8,\n",
       " 'carcinogen': 7,\n",
       " 'biopsy': 6,\n",
       " 'malignant': 8,\n",
       " 'benign': 6,\n",
       " 'remission': 7,\n",
       " 'mutation': 8,\n",
       " 'screening': 7,\n",
       " 'prognosis': 6,\n",
       " 'immunotherapy': 8,\n",
       " 'surgery': 7,\n",
       " 'prevention': 6,\n",
       " 'diagnosis': 8,\n",
       " 'risk factors': 7,\n",
       " 'hereditary': 6}"
      ]
     },
     "execution_count": 6,
     "metadata": {},
     "output_type": "execute_result"
    }
   ],
   "source": [
    "eval(keys1)"
   ]
  },
  {
   "cell_type": "code",
   "execution_count": 7,
   "metadata": {},
   "outputs": [],
   "source": [
    "\n",
    "L0 = []\n",
    "#pattern = r\"python\\nkeywords = ({.*?})\\n\"\n",
    "#match = re.search(pattern, keys, re.DOTALL)\n",
    "#dictionary_string = match.group(1)\n",
    "kwds = eval(keys1)\n",
    "kwds = {**{w0:0},**kwds}\n",
    "L0.append(kwds)\n",
    "\n"
   ]
  },
  {
   "cell_type": "code",
   "execution_count": 8,
   "metadata": {},
   "outputs": [
    {
     "data": {
      "text/plain": [
       "[{'cancer': 0,\n",
       "  'tumor': 9,\n",
       "  'chemotherapy': 8,\n",
       "  'radiation': 7,\n",
       "  'metastasis': 6,\n",
       "  'oncogene': 8,\n",
       "  'carcinogen': 7,\n",
       "  'biopsy': 6,\n",
       "  'malignant': 8,\n",
       "  'benign': 6,\n",
       "  'remission': 7,\n",
       "  'mutation': 8,\n",
       "  'screening': 7,\n",
       "  'prognosis': 6,\n",
       "  'immunotherapy': 8,\n",
       "  'surgery': 7,\n",
       "  'prevention': 6,\n",
       "  'diagnosis': 8,\n",
       "  'risk factors': 7,\n",
       "  'hereditary': 6}]"
      ]
     },
     "execution_count": 8,
     "metadata": {},
     "output_type": "execute_result"
    }
   ],
   "source": [
    "L0"
   ]
  },
  {
   "cell_type": "code",
   "execution_count": 9,
   "metadata": {},
   "outputs": [],
   "source": [
    "L1 = []\n",
    "for e, kwd in enumerate(kwds):\n",
    "    if e > 0:\n",
    "        keys = kw_generator.kwds_prompt(kwd,n1)\n",
    "        kwds = eval(keys)\n",
    "        kwds = {**{kwd:0},**kwds}\n",
    "        L1.append(kwds)"
   ]
  },
  {
   "cell_type": "code",
   "execution_count": 9,
   "metadata": {},
   "outputs": [
    {
     "data": {
      "text/plain": [
       "'{\\n    \"nuclear\": 9,\\n    \"ionizing\": 8,\\n    \"exposure\": 7,\\n    \"dose\": 8,\\n    \"radioactive\": 9,\\n    \"protection\": 7,\\n    \"health\": 8,\\n    \"cancer\": 9,\\n    \"therapy\": 7,\\n    \"diagnostic\": 6,\\n    \"medical\": 8,\\n    \"environmental\": 7,\\n    \"emission\": 6,\\n    \"shielding\": 8,\\n    \"biological\": 7,\\n    \"decay\": 7,\\n    \"radiation\": 8,\\n    \"dosimeter\": 6,\\n    \"gamma\": 8,\\n    \"alpha\": 7,\\n    \"beta\": 7,\\n    \"neutron\": 7,\\n    \"radiation therapy\": 8,\\n    \"radiation oncology\": 7,\\n    \"radiation dose\": 8,\\n    \"radiation exposure\": 7,\\n    \"radiation protection\": 8,\\n    \"radiation safety\": 7,\\n    \"radiation monitoring\": 6,\\n    \"radiation detection\": 7,\\n    \"radiation shielding\": 8,\\n    \"radiation biology\": 6,\\n    \"radiation effects\": 7,\\n    \"radiation sources\": 6,\\n    \"radiation hazards\": 7,\\n    \"radiation physics\": 8,\\n    \"radiation measurement\": 6,\\n    \"radiation levels\": 7,\\n    \"radiation detection equipment\": 6,\\n    \"radiation monitoring devices\": 6,\\n    \"radiation exposure assessment\": 7,\\n    \"radiation protection guidelines\": 7,\\n    \"radiation safety procedures\": 7,\\n    \"radiation therapy techniques\": 7,\\n    \"radiation oncology treatments\": 7,\\n    \"radiation dose calculation\": 7,\\n    \"radiation biology research\": 6,\\n    \"radiation effects on humans\": 7,\\n    \"radiation sources in the environment\": 6,\\n    \"radiation hazards in the workplace\": 7,\\n    \"radiation physics principles\": 8,\\n    \"radiation measurement instruments\": 6,\\n    \"radiation levels monitoring\": 7,\\n    \"radiation detection equipment calibration\": 6,\\n    \"radiation monitoring devices maintenance\": 6,\\n    \"radiation exposure assessment methods\": 7,\\n    \"radiation protection guidelines compliance\": 7,\\n    \"radiation safety procedures implementation\": 7,\\n    \"radiation therapy techniques advancements\": 7,\\n    \"radiation oncology treatments effectiveness\": 7,\\n    \"radiation dose calculation accuracy\": 7,\\n    \"radiation biology research findings\": 6,\\n    \"radiation effects on humans studies\": 7,\\n    \"radiation sources in the environment analysis\": 6,\\n    \"radiation hazards in the workplace prevention\": 7,\\n    \"radiation physics principles explanation\": 8,\\n    \"radiation measurement instruments usage\": 6,\\n    \"radiation levels monitoring importance\": 7,\\n    \"radiation detection equipment calibration procedures\": 6,\\n    \"radiation monitoring devices maintenance schedule\": 6,\\n    \"radiation exposure assessment methods evaluation\": 7,\\n    \"radiation protection guidelines compliance assessment\": 7,\\n    \"radiation safety procedures implementation review\": 7,\\n    \"radiation therapy techniques advancements assessment\": 7,\\n    \"radiation oncology treatments effectiveness evaluation\": 7,\\n    \"radiation dose calculation accuracy verification\": 7,\\n    \"radiation biology research findings analysis\": 6,\\n    \"radiation effects on humans studies review\": 7,\\n    \"radiation sources in the environment analysis report\": 6,\\n    \"radiation hazards in the workplace prevention measures\": 7,\\n    \"radiation physics principles explanation summary\": 8,\\n    \"radiation measurement instruments usage guidelines\": 6,\\n    \"radiation levels monitoring importance assessment\": 7,\\n    \"radiation detection equipment calibration procedures review\": 6,\\n    \"radiation monitoring devices maintenance schedule update\": 6,\\n    \"radiation exposure assessment methods evaluation report\": 7,\\n    \"radiation protection guidelines compliance assessment summary\": 7,\\n    \"radiation safety procedures implementation review findings\": 7,\\n    \"radiation therapy techniques advancements assessment report\": 7,\\n    \"radiation oncology treatments effectiveness evaluation summary\": 7,\\n    \"radiation dose calculation accuracy verification report\": 7,\\n    \"radiation biology research findings analysis summary\": 6,\\n    \"radiation effects on humans studies review findings\": 7,\\n    \"radiation sources in the environment analysis report summary\": 6,\\n    \"radiation hazards in the workplace prevention measures summary\": 7,\\n    \"radiation physics principles explanation summary report\": 8,\\n    \"radiation measurement instruments usage guidelines summary\": 6,\\n    \"radiation levels monitoring importance assessment summary\": 7,\\n    \"radiation detection equipment calibration procedures review findings\": 6,\\n    \"radiation monitoring devices maintenance schedule update report\": 6,\\n    \"radiation exposure assessment methods evaluation report summary\": 7,\\n    \"radiation protection guidelines compliance assessment summary report\": 7,\\n    \"radiation safety procedures implementation review findings summary\": 7,\\n    \"radiation therapy techniques advancements assessment report summary\": 7,\\n    \"radiation oncology treatments effectiveness evaluation summary report\": 7,\\n    \"radiation dose calculation accuracy verification report summary\": 7,\\n    \"radiation biology research findings analysis summary report\": 6,\\n    \"radiation effects on humans studies review findings summary\": 7,\\n    \"radiation sources in the environment analysis report summary report\": 6,\\n    \"radiation hazards in the workplace prevention measures summary report\": 7,\\n    \"radiation physics principles explanation summary report summary\": 8,\\n    \"radiation measurement instruments usage guidelines summary report\": 6,\\n    \"radiation levels monitoring importance assessment summary report\": 7,\\n    \"radiation detection equipment calibration procedures review findings summary\": 6,\\n    \"radiation monitoring devices maintenance schedule update report summary\": 6,\\n    \"radiation exposure assessment methods evaluation report summary report\": 7,\\n    \"radiation protection guidelines compliance assessment summary report summary\": 7,\\n    \"radiation safety procedures implementation review findings summary report\": 7,\\n    \"radiation therapy techniques advancements assessment report summary report\": 7,\\n    \"radiation oncology treatments effectiveness evaluation summary report summary\": 7,\\n    \"radiation dose calculation accuracy verification report summary report\": 7,\\n    \"radiation biology research findings analysis summary report summary\": 6,\\n    \"radiation effects on humans studies review findings summary report\": 7,\\n    \"radiation sources in the environment analysis report summary report summary\": 6,\\n    \"radiation hazards in the workplace prevention measures summary report summary\": 7,\\n    \"radiation physics principles explanation summary report summary report\": 8,\\n    \"radiation measurement instruments usage guidelines summary report summary\": 6,\\n    \"radiation levels monitoring importance assessment summary report summary\": 7,\\n    \"radiation detection equipment calibration procedures review findings summary report\": 6,\\n    \"radiation monitoring devices maintenance schedule update report summary report\": 6,\\n    \"radiation exposure assessment methods evaluation report summary report summary\": 7,\\n    \"radiation protection guidelines compliance assessment summary report summary\": 7,\\n    \"radiation safety procedures implementation review findings summary report\": 7,\\n    \"radiation therapy techniques advancements assessment report summary report\": 7,\\n    \"radiation oncology treatments effectiveness evaluation summary report summary\": 7,\\n    \"radiation dose calculation accuracy verification report summary report\": 7,\\n    \"radiation biology research findings analysis summary report summary\": 6,\\n    \"radiation effects on humans studies review findings summary report\": 7,\\n    \"radiation sources in the environment analysis report summary report summary\": 6,\\n    \"radiation hazards in the workplace prevention measures summary report summary\": 7,\\n    \"radiation physics principles explanation summary report summary report\": 8,\\n    \"radiation measurement instruments usage guidelines summary report summary\": 6,\\n    \"radiation levels monitoring importance assessment summary report summary\": 7,\\n    \"radiation detection equipment calibration procedures review findings summary report\": 6,\\n    \"radiation monitoring devices maintenance schedule update report summary report\": 6,\\n    \"radiation exposure assessment methods evaluation report summary report summary\": 7,\\n    \"radiation protection guidelines compliance assessment summary report summary\": 7,\\n    \"radiation safety procedures implementation review findings summary report\": 7,\\n    \"radiation therapy techniques advancements assessment report summary report\": 7,\\n    \"radiation oncology treatments effectiveness evaluation summary report summary\": 7,\\n    \"radiation dose calculation accuracy verification report summary report\": 7,\\n    \"radiation biology research findings analysis summary report summary\": 6,\\n    \"radiation effects on humans studies review findings summary report\": 7,\\n    \"radiation sources in the environment analysis report summary report summary\": 6,\\n    \"radiation hazards in the workplace prevention measures summary report summary\": 7,\\n    \"radiation physics principles explanation summary report summary report\": 8,\\n    \"radiation measurement instruments usage guidelines summary report summary\": 6,\\n    \"radiation levels monitoring importance assessment summary report summary\": 7,\\n    \"radiation detection equipment calibration procedures review findings summary report\": 6,\\n    \"radiation monitoring devices maintenance schedule update report summary report\": 6,\\n    \"radiation exposure assessment methods evaluation report summary report summary\": 7,\\n    \"radiation protection guidelines compliance assessment summary report summary\": 7,\\n    \"radiation safety procedures implementation review findings summary report\": 7,\\n    \"radiation therapy techniques advancements assessment report summary report\": 7,\\n    \"radiation oncology treatments effectiveness evaluation summary report summary\": 7,\\n    \"radiation dose calculation accuracy verification report summary report\": 7,\\n    \"radiation biology research findings analysis summary report summary\": 6,\\n    \"radiation effects on humans studies review findings summary report\": 7,\\n    \"radiation sources in the environment analysis report summary report summary\": 6,\\n    \"radiation hazards in the workplace prevention measures summary report summary\": 7,\\n    \"radiation physics principles explanation summary report summary report\": 8,\\n    \"radiation measurement instruments usage guidelines summary report summary\": 6,\\n    \"radiation levels monitoring importance assessment summary report summary\": 7,\\n    \"radiation detection equipment calibration procedures review findings summary report\": 6,\\n    \"radiation monitoring devices maintenance schedule update report summary report\": 6,\\n    \"radiation exposure assessment methods evaluation report summary report summary\": 7,\\n    \"radiation protection guidelines compliance assessment summary report summary\": 7,\\n    \"radiation safety procedures implementation review findings summary report\": 7,\\n    \"radiation therapy techniques advancements assessment report summary report\": 7,\\n    \"radiation oncology treatments effectiveness evaluation summary report summary\": 7,\\n    \"radiation dose calculation accuracy verification report summary report\": 7,\\n    \"radiation biology research findings analysis summary report summary\": 6,\\n    \"radiation effects on humans studies review findings summary report\": 7,\\n    \"radiation sources in the environment analysis report summary report summary\": 6,\\n    \"radiation hazards in the workplace prevention measures summary report summary\": 7,\\n    \"radiation physics principles explanation summary report summary report\": 8,\\n    \"radiation measurement instruments usage guidelines summary report summary\": 6,\\n    \"radiation levels monitoring importance assessment summary report summary\": 7,\\n    \"radiation detection equipment calibration procedures review findings summary report\": 6,\\n    \"radiation monitoring devices maintenance schedule update report summary report\": 6,\\n    \"radiation exposure assessment methods evaluation report summary report summary\": 7,\\n    \"radiation protection guidelines compliance assessment summary report summary\": 7,\\n    \"radiation safety procedures implementation review findings summary report\": 7,\\n    \"radiation therapy techniques advancements assessment report summary report\": 7,\\n    \"radiation oncology treatments effectiveness evaluation summary report summary\": 7,\\n    \"radiation dose calculation accuracy verification report summary report\": 7,\\n    \"radiation biology research findings analysis summary report summary\": 6,\\n    \"radiation effects on humans studies review findings summary report\": 7,\\n    \"radiation sources in the environment analysis report summary report summary\": 6,\\n    \"radiation hazards in the workplace prevention measures summary report summary\": 7,\\n    \"radiation physics principles explanation summary report summary report\": 8,\\n    \"radiation measurement instruments usage guidelines summary report summary\": 6,\\n    \"radiation levels monitoring importance assessment summary report summary\": 7,\\n    \"radiation detection equipment calibration procedures review findings summary report\": 6,\\n    \"radiation monitoring devices maintenance schedule update report summary report\": 6,\\n    \"radiation exposure assessment methods evaluation report summary report summary\": 7,\\n    \"radiation protection guidelines compliance assessment summary report summary\": 7,\\n    \"radiation safety procedures implementation review findings summary report\": 7,\\n    \"radiation therapy techniques advancements assessment report summary report\": 7,\\n    \"radiation oncology treatments effectiveness evaluation summary report summary\": 7,\\n    \"radiation dose calculation accuracy verification report summary report\": 7,\\n    \"radiation biology research findings analysis summary report summary\": 6,\\n    \"radiation effects on humans studies review findings summary report\": 7,\\n    \"radiation sources in the environment analysis report summary report summary\": 6,\\n    \"radiation hazards in the workplace prevention measures summary report summary\": 7,\\n    \"radiation physics principles explanation summary report summary report\": 8,\\n    \"radiation measurement instruments usage guidelines summary report summary\": 6,\\n    \"radiation levels monitoring importance assessment summary report summary\": 7,\\n    \"radiation detection equipment calibration procedures review findings summary report\": 6,\\n    \"radiation monitoring devices maintenance schedule update report summary report\": 6,\\n    \"radiation exposure assessment methods evaluation report summary report summary\": 7,\\n    \"radiation protection guidelines compliance assessment summary report summary\": 7,\\n    \"radiation safety procedures implementation review findings summary report\": 7,\\n    \"radiation therapy techniques advancements assessment report summary report\": 7,\\n    \"radiation oncology treatments effectiveness evaluation summary report summary\": 7,\\n    \"radiation dose calculation accuracy verification report summary report\": 7,\\n    \"radiation biology research findings analysis summary report summary\": 6,\\n    \"radiation effects on humans studies review findings summary report\": 7,\\n    \"radiation sources in the environment analysis report summary report summary\": 6,\\n    \"radiation hazards in the workplace prevention measures summary report summary\": 7,\\n    \"radiation physics principles explanation summary report summary report\": 8,\\n    \"radiation measurement instruments usage guidelines summary report summary\": 6,\\n    \"radiation levels monitoring importance assessment summary report summary\": 7,\\n    \"radiation detection equipment calibration procedures review findings summary report\": 6,\\n    \"radiation monitoring devices maintenance schedule update report summary report\": 6,\\n    \"radiation exposure assessment methods evaluation report summary report summary\": 7,\\n    \"radiation protection guidelines compliance assessment summary report summary\": 7,\\n    \"radiation safety procedures implementation review findings summary report\": 7,\\n    \"radiation therapy techniques advancements assessment report summary report\": 7,\\n    \"radiation oncology treatments effectiveness evaluation summary report summary\": 7,\\n    \"radiation dose calculation accuracy verification report summary report\": 7,\\n    \"radiation biology research findings analysis summary report summary\": 6,\\n    \"radiation effects on humans studies review findings summary report\": 7,\\n    \"radiation sources in the environment analysis report summary report summary\": 6,\\n    \"radiation hazards in the workplace prevention measures summary report summary\": 7,\\n    \"radiation physics principles explanation summary report summary report\": 8,\\n    \"radiation measurement instruments usage guidelines summary report summary\": 6,\\n    \"radiation levels monitoring importance assessment summary report summary\": 7,\\n    \"radiation detection equipment calibration procedures review findings summary report\": 6,\\n    \"radiation monitoring devices maintenance schedule update report summary report\": 6,\\n    \"radiation exposure assessment methods evaluation report summary report summary\": 7,\\n    \"radiation protection guidelines compliance assessment summary report summary\": 7,\\n    \"radiation safety procedures implementation review findings summary report\": 7,\\n    \"radiation therapy techniques advancements assessment report summary report\": 7,\\n    \"radiation oncology treatments effectiveness evaluation summary report summary\": 7,\\n    \"radiation dose calculation accuracy verification report summary report\": 7,\\n    \"radiation biology research findings analysis summary report summary\": 6,\\n    \"radiation effects on humans studies review findings summary report\": 7,\\n    \"radiation sources in the environment analysis report summary report summary\": 6,\\n    \"radiation hazards in the workplace prevention measures summary report summary\": 7,\\n    \"radiation physics principles explanation summary report summary report\": 8,\\n    \"radiation measurement instruments usage guidelines summary report summary\": 6,\\n    \"radiation levels monitoring importance assessment summary report summary\": 7,\\n    \"radiation detection equipment calibration procedures review findings summary report\": 6,\\n    \"radiation monitoring devices maintenance schedule update report summary report\": 6,\\n    \"radiation exposure assessment methods evaluation report summary report summary\": 7,\\n    \"radiation protection guidelines compliance assessment summary report summary\": 7,\\n    \"radiation safety procedures implementation review findings summary report\": 7,\\n    \"radiation therapy techniques advancements assessment report summary report\": 7,\\n    \"radiation oncology treatments effectiveness evaluation summary report summary\": 7,\\n    \"radiation dose calculation accuracy verification report summary report\": 7,\\n    \"radiation biology research findings analysis summary report summary\": 6,\\n    \"radiation effects on humans studies review findings summary report\": 7,\\n    \"radiation sources in the environment analysis report summary report summary\": 6,\\n    \"radiation hazards in the workplace prevention measures summary report summary\": 7,\\n    \"radiation physics principles explanation summary report summary report\": 8,\\n    \"radiation measurement instruments usage guidelines summary report summary\": 6,\\n    \"radiation levels monitoring importance assessment summary report summary\": 7,\\n    \"radiation detection equipment calibration procedures review findings summary report\": 6,\\n    \"radiation monitoring devices maintenance schedule update report summary report\": 6,\\n    \"radiation exposure assessment methods evaluation report summary report summary\": 7,\\n    \"radiation protection guidelines compliance assessment summary report summary\": 7,\\n    \"radiation safety procedures implementation review findings summary report\": 7,\\n    \"radiation therapy techniques advancements assessment report summary report\": 7,\\n    \"radiation oncology treatments effectiveness evaluation summary report summary\": 7,\\n    \"radiation dose calculation accuracy verification report summary report\": 7,\\n    \"radiation biology research findings analysis summary report summary\": 6,\\n    \"radiation effects on humans studies review findings summary report\": 7,\\n    \"radiation sources in the environment analysis report summary report summary\": 6,\\n    \"radiation hazards in the workplace prevention measures summary report summary\": 7,\\n    \"radiation physics principles explanation summary report summary report\": 8,\\n    \"radiation measurement instruments usage guidelines summary report summary\": 6,\\n    \"radiation levels monitoring importance assessment summary report summary\": 7,\\n    \"radiation detection equipment calibration procedures review findings summary report\": 6,\\n    \"radiation monitoring devices maintenance schedule update report summary report\": 6,\\n    \"radiation exposure assessment methods evaluation report summary report summary\": '"
      ]
     },
     "execution_count": 9,
     "metadata": {},
     "output_type": "execute_result"
    }
   ],
   "source": [
    "keys"
   ]
  },
  {
   "cell_type": "code",
   "execution_count": 71,
   "metadata": {},
   "outputs": [],
   "source": [
    "pattern\n",
    "if re.search(pattern, keys, re.DOTALL) is None:\n",
    "    pattern2 = r\"python\\n ({.*?})\\n\"\n",
    "    match = re.search(pattern2, keys, re.DOTALL)\n",
    "    match"
   ]
  },
  {
   "cell_type": "code",
   "execution_count": 69,
   "metadata": {},
   "outputs": [
    {
     "data": {
      "text/plain": [
       "'Sure! Here is a Python dictionary with 100 relevant keywords related to \"chemotherapy\" along with their importance weight:\\n\\n```python\\n{\\n    \"cancer\": 9,\\n    \"treatment\": 8,\\n    \"side effects\": 7,\\n    \"oncology\": 7,\\n    \"radiation\": 6,\\n    \"therapy\": 6,\\n    \"patients\": 6,\\n    \"drugs\": 6,\\n    \"chemotherapeutic agents\": 6,\\n    \"dose\": 5,\\n    \"survival\": 5,\\n    \"adverse effects\": 5,\\n    \"combination therapy\": 5,\\n    \"metastasis\": 5,\\n    \"resistance\": 5,\\n    \"clinical trials\": 5,\\n    \"immune system\": 5,\\n    \"tumor\": 5,\\n    \"remission\": 5,\\n    \"blood cells\": 5,\\n    \"nausea\": 4,\\n    \"vomiting\": 4,\\n    \"hair loss\": 4,\\n    \"fatigue\": 4,\\n    \"neutropenia\": 4,\\n    \"anemia\": 4,\\n    \"platelets\": 4,\\n    \"palliative care\": 4,\\n    \"targeted therapy\": 4,\\n    \"precision medicine\": 4,\\n    \"genomics\": 4,\\n    \"pharmacokinetics\": 4,\\n    \"pharmacodynamics\": 4,\\n    \"toxicity\": 4,\\n    \"supportive care\": 4,\\n    \"antibiotics\": 4,\\n    \"antifungals\": 4,\\n    \"antiemetics\": 4,\\n    \"hydration\": 4,\\n    \"nutrition\": 4,\\n    \"pain management\": 4,\\n    \"psychosocial support\": 4,\\n    \"quality of life\": 4,\\n    \"complementary therapies\": 4,\\n    \"integrative medicine\": 4,\\n    \"herbal supplements\": 4,\\n    \"mind-body practices\": 4,\\n    \"acupuncture\": 4,\\n    \"massage therapy\": 4,\\n    \"exercise\": 4,\\n    \"yoga\": 4,\\n    \"meditation\": 4,\\n    \"breathing techniques\": 4,\\n    \"relaxation\": 4,\\n    \"stress management\": 4,\\n    \"support groups\": 4,\\n    \"family support\": 4,\\n    \"caregivers\": 4,\\n    \"financial assistance\": 4,\\n    \"insurance coverage\": 4,\\n    \"workplace accommodations\": 4,\\n    \"survivorship care\": 4,\\n    \"follow-up care\": 4,\\n    \"monitoring\": 4,\\n    \"recurrence\": 4,\\n    \"metastatic disease\": 4,\\n    \"palliative therapy\": 4,\\n    \"end-of-life care\": 4,\\n    \"hospice\": 4,\\n    \"advance directives\": 4,\\n    \"pain control\": 4,\\n    \"symptom management\": 4,\\n    \"emotional support\": 4,\\n    \"spiritual care\": 4,\\n    \"bereavement support\": 4,\\n    \"grief counseling\": 4,\\n    \"palliative sedation\": 4,\\n    \"euthanasia\": 4,\\n    \"physician-assisted suicide\": 4,\\n    \"legal considerations\": 4,\\n    \"ethical issues\": 4,\\n    \"patient autonomy\": 4,\\n    \"decision-making\": 4,\\n    \"informed consent\": 4,\\n    \"confidentiality\": 4,\\n    \"end-of-life decisions\": 4,\\n    \"healthcare proxy\": 4,\\n    \"living will\": 4,\\n    \"durable power of attorney\": 4,\\n    \"do not resuscitate\": 4,\\n    \"organ donation\": 4,\\n    \"funeral arrangements\": 4,\\n    \"estate planning\": 4,\\n    \"wills\": 4,\\n    \"trusts\": 4,\\n    \"probate\": 4,\\n    \"inheritance\": 4\\n}\\n```\\n\\nThese keywords are commonly associated with chemotherapy and their importance weight ranges from 4 to 9.'"
      ]
     },
     "execution_count": 69,
     "metadata": {},
     "output_type": "execute_result"
    }
   ],
   "source": [
    "keys"
   ]
  },
  {
   "cell_type": "code",
   "execution_count": 3,
   "metadata": {},
   "outputs": [],
   "source": [
    "w0 = 'cancer'\n",
    "n0 = 40\n",
    "n1 = 100\n",
    "key_list = []\n",
    "keys = kw_generator.kwds_prompt(w0,n0)"
   ]
  },
  {
   "cell_type": "code",
   "execution_count": 13,
   "metadata": {},
   "outputs": [
    {
     "data": {
      "text/plain": [
       "'Sure! Here is a Python dictionary with 40 relevant keywords related to cancer along with their importance weight:\\n\\n```python\\nkeywords = {\\n    \"tumor\": 9,\\n    \"chemotherapy\": 8,\\n    \"radiation\": 7,\\n    \"metastasis\": 8,\\n    \"oncology\": 7,\\n    \"carcinoma\": 8,\\n    \"biopsy\": 7,\\n    \"mutation\": 8,\\n    \"malignant\": 8,\\n    \"benign\": 6,\\n    \"screening\": 7,\\n    \"prognosis\": 7,\\n    \"remission\": 6,\\n    \"immunotherapy\": 8,\\n    \"surgery\": 8,\\n    \"diagnosis\": 7,\\n    \"prevention\": 6,\\n    \"risk factors\": 6,\\n    \"genetics\": 7,\\n    \"clinical trials\": 7,\\n    \"palliative care\": 6,\\n    \"early detection\": 7,\\n    \"hereditary\": 6,\\n    \"symptoms\": 6,\\n    \"stage\": 7,\\n    \"survival rate\": 6,\\n    \"side effects\": 6,\\n    \"prostate\": 7,\\n    \"breast\": 7,\\n    \"lung\": 7,\\n    \"colon\": 7,\\n    \"leukemia\": 7,\\n    \"lymphoma\": 7,\\n    \"melanoma\": 7,\\n    \"pancreatic\": 7,\\n    \"ovarian\": 7,\\n    \"bladder\": 7,\\n    \"cervical\": 7,\\n    \"brain\": 7\\n}\\n```\\n\\nThese keywords are commonly associated with cancer and their importance weight ranges from 6 to 9.'"
      ]
     },
     "execution_count": 13,
     "metadata": {},
     "output_type": "execute_result"
    }
   ],
   "source": [
    "keyspattern = r\"python\\nkeywords = ({.*?})\\n\"\n",
    "match = re.search(pattern, keys, re.DOTALL)\n",
    "dictionary_string = match.group(1)\n",
    "cancer_keywords = eval(dictionary_string)"
   ]
  },
  {
   "cell_type": "code",
   "execution_count": 14,
   "metadata": {},
   "outputs": [
    {
     "name": "stdout",
     "output_type": "stream",
     "text": [
      "<re.Match object; span=(118, 913), match='python\\nkeywords = {\\n    \"tumor\": 9,\\n    \"chemo>\n"
     ]
    }
   ],
   "source": [
    "import re\n",
    "pattern = r\"python\\nkeywords = ({.*?})\\n\"\n",
    "match = re.search(pattern, keys, re.DOTALL)\n",
    "dictionary_string = match.group(1)\n",
    "cancer_keywords = eval(dictionary_string)\n",
    "\n",
    "print(match)"
   ]
  },
  {
   "cell_type": "code",
   "execution_count": 15,
   "metadata": {},
   "outputs": [],
   "source": []
  },
  {
   "cell_type": "code",
   "execution_count": 16,
   "metadata": {},
   "outputs": [],
   "source": [
    "cancer_keywords = eval(dictionary_string)"
   ]
  },
  {
   "cell_type": "code",
   "execution_count": 17,
   "metadata": {},
   "outputs": [
    {
     "data": {
      "text/plain": [
       "{'tumor': 9,\n",
       " 'chemotherapy': 8,\n",
       " 'radiation': 7,\n",
       " 'metastasis': 8,\n",
       " 'oncology': 7,\n",
       " 'carcinoma': 8,\n",
       " 'biopsy': 7,\n",
       " 'mutation': 8,\n",
       " 'malignant': 8,\n",
       " 'benign': 6,\n",
       " 'screening': 7,\n",
       " 'prognosis': 7,\n",
       " 'remission': 6,\n",
       " 'immunotherapy': 8,\n",
       " 'surgery': 8,\n",
       " 'diagnosis': 7,\n",
       " 'prevention': 6,\n",
       " 'risk factors': 6,\n",
       " 'genetics': 7,\n",
       " 'clinical trials': 7,\n",
       " 'palliative care': 6,\n",
       " 'early detection': 7,\n",
       " 'hereditary': 6,\n",
       " 'symptoms': 6,\n",
       " 'stage': 7,\n",
       " 'survival rate': 6,\n",
       " 'side effects': 6,\n",
       " 'prostate': 7,\n",
       " 'breast': 7,\n",
       " 'lung': 7,\n",
       " 'colon': 7,\n",
       " 'leukemia': 7,\n",
       " 'lymphoma': 7,\n",
       " 'melanoma': 7,\n",
       " 'pancreatic': 7,\n",
       " 'ovarian': 7,\n",
       " 'bladder': 7,\n",
       " 'cervical': 7,\n",
       " 'brain': 7}"
      ]
     },
     "execution_count": 17,
     "metadata": {},
     "output_type": "execute_result"
    }
   ],
   "source": [
    "cancer_keywords"
   ]
  },
  {
   "cell_type": "code",
   "execution_count": null,
   "metadata": {},
   "outputs": [],
   "source": []
  }
 ],
 "metadata": {
  "kernelspec": {
   "display_name": ".venv",
   "language": "python",
   "name": "python3"
  },
  "language_info": {
   "codemirror_mode": {
    "name": "ipython",
    "version": 3
   },
   "file_extension": ".py",
   "mimetype": "text/x-python",
   "name": "python",
   "nbconvert_exporter": "python",
   "pygments_lexer": "ipython3",
   "version": "3.12.1"
  }
 },
 "nbformat": 4,
 "nbformat_minor": 2
}
