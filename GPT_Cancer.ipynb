{
 "cells": [
  {
   "cell_type": "code",
   "execution_count": 1,
   "metadata": {},
   "outputs": [],
   "source": [
    "from src.gpt_personalized_keyword_generator import KeywordGenerator\n",
    "import os\n",
    "import pathlib\n",
    "\n",
    "from dotenv import load_dotenv, find_dotenv\n",
    "from openai import OpenAI\n",
    "\n",
    "import pandas as pd\n",
    "import networkx as nx\n",
    "\n",
    "import matplotlib.pyplot as plt\n",
    "import numpy as np"
   ]
  },
  {
   "cell_type": "code",
   "execution_count": 2,
   "metadata": {},
   "outputs": [],
   "source": [
    "kw_generator = KeywordGenerator(model='gpt-3.5-turbo')"
   ]
  },
  {
   "cell_type": "code",
   "execution_count": 3,
   "metadata": {},
   "outputs": [],
   "source": [
    "w0 = 'cancer'\n",
    "n0 = 40\n",
    "n1 = 100\n",
    "key_list = []\n",
    "keys = kw_generator.kwds_prompt(w0,n0)"
   ]
  },
  {
   "cell_type": "code",
   "execution_count": 13,
   "metadata": {},
   "outputs": [
    {
     "data": {
      "text/plain": [
       "'Sure! Here is a Python dictionary with 40 relevant keywords related to cancer along with their importance weight:\\n\\n```python\\nkeywords = {\\n    \"tumor\": 9,\\n    \"chemotherapy\": 8,\\n    \"radiation\": 7,\\n    \"metastasis\": 8,\\n    \"oncology\": 7,\\n    \"carcinoma\": 8,\\n    \"biopsy\": 7,\\n    \"mutation\": 8,\\n    \"malignant\": 8,\\n    \"benign\": 6,\\n    \"screening\": 7,\\n    \"prognosis\": 7,\\n    \"remission\": 6,\\n    \"immunotherapy\": 8,\\n    \"surgery\": 8,\\n    \"diagnosis\": 7,\\n    \"prevention\": 6,\\n    \"risk factors\": 6,\\n    \"genetics\": 7,\\n    \"clinical trials\": 7,\\n    \"palliative care\": 6,\\n    \"early detection\": 7,\\n    \"hereditary\": 6,\\n    \"symptoms\": 6,\\n    \"stage\": 7,\\n    \"survival rate\": 6,\\n    \"side effects\": 6,\\n    \"prostate\": 7,\\n    \"breast\": 7,\\n    \"lung\": 7,\\n    \"colon\": 7,\\n    \"leukemia\": 7,\\n    \"lymphoma\": 7,\\n    \"melanoma\": 7,\\n    \"pancreatic\": 7,\\n    \"ovarian\": 7,\\n    \"bladder\": 7,\\n    \"cervical\": 7,\\n    \"brain\": 7\\n}\\n```\\n\\nThese keywords are commonly associated with cancer and their importance weight ranges from 6 to 9.'"
      ]
     },
     "execution_count": 13,
     "metadata": {},
     "output_type": "execute_result"
    }
   ],
   "source": [
    "keys"
   ]
  },
  {
   "cell_type": "code",
   "execution_count": 14,
   "metadata": {},
   "outputs": [
    {
     "name": "stdout",
     "output_type": "stream",
     "text": [
      "<re.Match object; span=(118, 913), match='python\\nkeywords = {\\n    \"tumor\": 9,\\n    \"chemo>\n"
     ]
    }
   ],
   "source": [
    "import re\n",
    "pattern = r\"python\\nkeywords = ({.*?})\\n\"\n",
    "match = re.search(pattern, keys, re.DOTALL)\n",
    "\n",
    "print(match)"
   ]
  },
  {
   "cell_type": "code",
   "execution_count": 15,
   "metadata": {},
   "outputs": [],
   "source": [
    "dictionary_string = match.group(1)"
   ]
  },
  {
   "cell_type": "code",
   "execution_count": 16,
   "metadata": {},
   "outputs": [],
   "source": [
    "cancer_keywords = eval(dictionary_string)"
   ]
  },
  {
   "cell_type": "code",
   "execution_count": 17,
   "metadata": {},
   "outputs": [
    {
     "data": {
      "text/plain": [
       "{'tumor': 9,\n",
       " 'chemotherapy': 8,\n",
       " 'radiation': 7,\n",
       " 'metastasis': 8,\n",
       " 'oncology': 7,\n",
       " 'carcinoma': 8,\n",
       " 'biopsy': 7,\n",
       " 'mutation': 8,\n",
       " 'malignant': 8,\n",
       " 'benign': 6,\n",
       " 'screening': 7,\n",
       " 'prognosis': 7,\n",
       " 'remission': 6,\n",
       " 'immunotherapy': 8,\n",
       " 'surgery': 8,\n",
       " 'diagnosis': 7,\n",
       " 'prevention': 6,\n",
       " 'risk factors': 6,\n",
       " 'genetics': 7,\n",
       " 'clinical trials': 7,\n",
       " 'palliative care': 6,\n",
       " 'early detection': 7,\n",
       " 'hereditary': 6,\n",
       " 'symptoms': 6,\n",
       " 'stage': 7,\n",
       " 'survival rate': 6,\n",
       " 'side effects': 6,\n",
       " 'prostate': 7,\n",
       " 'breast': 7,\n",
       " 'lung': 7,\n",
       " 'colon': 7,\n",
       " 'leukemia': 7,\n",
       " 'lymphoma': 7,\n",
       " 'melanoma': 7,\n",
       " 'pancreatic': 7,\n",
       " 'ovarian': 7,\n",
       " 'bladder': 7,\n",
       " 'cervical': 7,\n",
       " 'brain': 7}"
      ]
     },
     "execution_count": 17,
     "metadata": {},
     "output_type": "execute_result"
    }
   ],
   "source": [
    "cancer_keywords"
   ]
  },
  {
   "cell_type": "code",
   "execution_count": null,
   "metadata": {},
   "outputs": [],
   "source": []
  }
 ],
 "metadata": {
  "kernelspec": {
   "display_name": ".venv",
   "language": "python",
   "name": "python3"
  },
  "language_info": {
   "codemirror_mode": {
    "name": "ipython",
    "version": 3
   },
   "file_extension": ".py",
   "mimetype": "text/x-python",
   "name": "python",
   "nbconvert_exporter": "python",
   "pygments_lexer": "ipython3",
   "version": "3.12.2"
  }
 },
 "nbformat": 4,
 "nbformat_minor": 2
}
