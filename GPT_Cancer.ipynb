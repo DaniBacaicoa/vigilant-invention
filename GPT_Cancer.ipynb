{
 "cells": [
  {
   "cell_type": "code",
   "execution_count": 1,
   "metadata": {},
   "outputs": [],
   "source": [
    "from src.gpt_personalized_keyword_generator import KeywordGenerator\n",
    "import os\n",
    "import pathlib\n",
    "\n",
    "from dotenv import load_dotenv, find_dotenv\n",
    "from openai import OpenAI\n",
    "\n",
    "import pandas as pd\n",
    "import networkx as nx\n",
    "\n",
    "import matplotlib.pyplot as plt\n",
    "import numpy as np\n",
    "from datetime import datetime\n",
    "\n",
    "import re\n",
    "import pickle"
   ]
  },
  {
   "cell_type": "code",
   "execution_count": 2,
   "metadata": {},
   "outputs": [],
   "source": [
    "kw_generator = KeywordGenerator(model='gpt-3.5-turbo')"
   ]
  },
  {
   "cell_type": "markdown",
   "metadata": {},
   "source": [
    "## Data generation\n",
    "We will generate the keywords. After that we will save them si if you want to generate new ones"
   ]
  },
  {
   "cell_type": "code",
   "execution_count": 3,
   "metadata": {},
   "outputs": [],
   "source": [
    "Read = True\n",
    "w0 = 'cancer'   # Topic\n",
    "n0 = 40         # Keywords related with first topic \n",
    "n1 = 100        # Keywords related with subsequent topics"
   ]
  },
  {
   "cell_type": "code",
   "execution_count": null,
   "metadata": {},
   "outputs": [],
   "source": []
  },
  {
   "cell_type": "code",
   "execution_count": 4,
   "metadata": {},
   "outputs": [],
   "source": [
    "if Read == False:\n",
    "    L0 = [] #This is the dictionary for the first level\n",
    "    keys0 = kw_generator.kwds_prompt(w0,n0)\n",
    "    kwds0 = eval(keys0)\n",
    "    kwds0 = {**{w0:0},**kwds0}\n",
    "    L0.append(kwds0)\n"
   ]
  },
  {
   "cell_type": "code",
   "execution_count": 5,
   "metadata": {},
   "outputs": [],
   "source": [
    "L1 = []"
   ]
  },
  {
   "cell_type": "code",
   "execution_count": 6,
   "metadata": {},
   "outputs": [],
   "source": [
    "if Read == False:\n",
    "    correction_len = 35\n",
    "    for e, kwd in enumerate(L0[0]):\n",
    "        if e > len(L1):\n",
    "            print(kwd)\n",
    "            keys = kw_generator.kwds_prompt(kwd,n1)\n",
    "            try:\n",
    "                kwds = eval(keys)\n",
    "            except:\n",
    "                print(keys[-correction_len:])\n",
    "                solution = input(\"Enter a solution:\")\n",
    "                keys = keys[:-correction_len] + solution\n",
    "                kwds = eval(keys)\n",
    "            kwds = {**{kwd:0},**kwds}\n",
    "            L1.append(kwds)"
   ]
  },
  {
   "cell_type": "code",
   "execution_count": 7,
   "metadata": {},
   "outputs": [
    {
     "name": "stderr",
     "output_type": "stream",
     "text": [
      "<string>:4: SyntaxWarning: invalid escape sequence '\\{'\n",
      "<>:4: SyntaxWarning: invalid escape sequence '\\{'\n",
      "<string>:4: SyntaxWarning: invalid escape sequence '\\{'\n",
      "<>:4: SyntaxWarning: invalid escape sequence '\\{'\n",
      "C:\\Users\\danibacaicoa\\AppData\\Local\\Temp\\ipykernel_10192\\3235079148.py:4: SyntaxWarning: invalid escape sequence '\\{'\n",
      "  file_name = f'Keywords_datasets\\{w0}_keywords_{fecha.year}{fecha.month:02d}{fecha.day:02d}.pickle'\n"
     ]
    }
   ],
   "source": [
    "if Read == False:\n",
    "    L = [L0,L1]\n",
    "    fecha = datetime.now()\n",
    "    file_name = f'Keywords_datasets\\{w0}_keywords_{fecha.year}{fecha.month:02d}{fecha.day:02d}.pickle'\n",
    "\n",
    "    # We could do it with:\n",
    "    f = open(file_name, 'wb')\n",
    "    pickle.dump(L, f)\n",
    "    f.close()\n",
    "\n",
    "    ##Or\n",
    "    #with open('data.pickle', 'wb') as f:\n",
    "    #    pickle.dump(data, f)\n"
   ]
  },
  {
   "cell_type": "code",
   "execution_count": 8,
   "metadata": {},
   "outputs": [
    {
     "name": "stderr",
     "output_type": "stream",
     "text": [
      "<>:2: SyntaxWarning: invalid escape sequence '\\c'\n",
      "<>:2: SyntaxWarning: invalid escape sequence '\\c'\n",
      "C:\\Users\\danibacaicoa\\AppData\\Local\\Temp\\ipykernel_10192\\2377652600.py:2: SyntaxWarning: invalid escape sequence '\\c'\n",
      "  f = open('Keywords_datasets\\cancer_keywords_20240417.pickle', 'rb')\n"
     ]
    }
   ],
   "source": [
    "if Read == True:\n",
    "    f = open('Keywords_datasets\\cancer_keywords_20240417.pickle', 'rb')\n",
    "    L = pickle.load(f)\n",
    "    f.close()\n",
    "\n",
    "    #with open('data.pickle', 'rb') as f:\n",
    "    #    loaded_data = pickle.load(f)"
   ]
  },
  {
   "cell_type": "code",
   "execution_count": 10,
   "metadata": {},
   "outputs": [
    {
     "data": {
      "text/plain": [
       "{'chemotherapy': 0,\n",
       " 'cancer': 10,\n",
       " 'treatment': 9,\n",
       " 'side effects': 8,\n",
       " 'oncology': 7,\n",
       " 'medication': 7,\n",
       " 'therapy': 8,\n",
       " 'chemo': 4,\n",
       " 'radiation': 3,\n",
       " 'patients': 2,\n",
       " 'drugs': 1,\n",
       " 'nurse': 3,\n",
       " 'hospital': 10,\n",
       " 'survival': 9,\n",
       " 'dose': 8,\n",
       " 'research': 7,\n",
       " 'immune system': 6,\n",
       " 'remission': 5,\n",
       " 'pain': 7,\n",
       " 'hair loss': 7,\n",
       " 'support': 0,\n",
       " 'care': 1,\n",
       " 'family': 7,\n",
       " 'diagnosis': 10,\n",
       " 'tumor': 9,\n",
       " 'blood': 8,\n",
       " 'clinical trials': 7,\n",
       " 'chemotherapy drugs': 6,\n",
       " 'metastasis': 5,\n",
       " 'nutrition': 7,\n",
       " 'anemia': 6,\n",
       " 'fatigue': 9,\n",
       " 'emotions': 1,\n",
       " 'hope': 0,\n",
       " 'chemotherapy regimen': 10,\n",
       " 'infection': 9,\n",
       " 'hydration': 7,\n",
       " 'nausea': 8,\n",
       " 'vomiting': 6,\n",
       " 'mouth sores': 2,\n",
       " 'neutropenia': 4,\n",
       " 'platelets': 3,\n",
       " 'monitoring': 3,\n",
       " 'schedule': 1,\n",
       " 'compliance': 0,\n",
       " 'chemotherapy cycle': 10,\n",
       " 'palliative care': 9,\n",
       " 'quality of life': 0,\n",
       " 'pain management': 7,\n",
       " 'integrative therapies': 6,\n",
       " 'mental health': 5,\n",
       " 'exercise': 7,\n",
       " 'sleep': 5,\n",
       " 'relaxation': 8,\n",
       " 'spirituality': 1,\n",
       " 'mindfulness': 2,\n",
       " 'chemotherapy treatment': 10,\n",
       " 'immunotherapy': 9,\n",
       " 'targeted therapy': 8,\n",
       " 'precision medicine': 7,\n",
       " 'genetic testing': 6,\n",
       " 'biopsy': 5,\n",
       " 'radiology': 4,\n",
       " 'surgery': 3,\n",
       " 'recovery': 0,\n",
       " 'follow-up': 0,\n",
       " 'chemotherapy side effects': 10,\n",
       " 'neuropathy': 5,\n",
       " 'constipation': 4,\n",
       " 'diarrhea': 3,\n",
       " 'skin changes': 1,\n",
       " 'emotional support': 0,\n",
       " 'chemotherapy and hair loss': 10,\n",
       " 'wigs': 9,\n",
       " 'headscarves': 8,\n",
       " 'cold cap': 7,\n",
       " 'hair regrowth': 6,\n",
       " 'scalp care': 5,\n",
       " 'confidence': 0,\n",
       " 'self-image': 3,\n",
       " 'acceptance': 2,\n",
       " 'beauty': 1,\n",
       " 'style': 0,\n",
       " 'chemotherapy and nausea': 10,\n",
       " 'antiemetics': 9,\n",
       " 'ginger': 8,\n",
       " 'acupressure': 7,\n",
       " 'aromatherapy': 4,\n",
       " 'small meals': 5,\n",
       " 'avoid triggers': 7,\n",
       " 'rest': 3,\n",
       " 'fresh air': 1,\n",
       " 'chemotherapy and fatigue': 10,\n",
       " 'pacing': 4,\n",
       " 'energy conservation': 1,\n",
       " 'self-care': 0,\n",
       " 'chemotherapy and neuropathy': 10,\n",
       " 'numbness': 9,\n",
       " 'tingling': 8,\n",
       " 'balance': 3,\n",
       " 'coordination': 5,\n",
       " 'sensitivity': 3,\n",
       " 'foot care': 3,\n",
       " 'hand care': 2,\n",
       " 'mobility': 1,\n",
       " 'chemotherapy and constipation': 10,\n",
       " 'fiber': 9,\n",
       " 'prunes': 6,\n",
       " 'stool softeners': 5,\n",
       " 'laxatives': 4,\n",
       " 'regularity': 3,\n",
       " 'bowel movements': 2,\n",
       " 'relief': 1,\n",
       " 'comfort': 7,\n",
       " 'chemotherapy and diarrhea': 10,\n",
       " 'bland foods': 8,\n",
       " 'electrolytes': 6,\n",
       " 'medications': 4,\n",
       " 'chemotherapy and mouth sores': 10,\n",
       " 'soft foods': 9,\n",
       " 'avoid irritants': 6,\n",
       " 'mouth rinses': 6,\n",
       " 'pain relief': 5,\n",
       " 'doctor': 4,\n",
       " 'oral care': 2,\n",
       " 'chemotherapy and skin changes': 10,\n",
       " 'moisturize': 9,\n",
       " 'sun protection': 8,\n",
       " 'gentle products': 7,\n",
       " 'rashes': 5,\n",
       " 'itching': 4,\n",
       " 'dermatologist': 2,\n",
       " 'chemotherapy and emotional support': 10,\n",
       " 'counseling': 9,\n",
       " 'support groups': 6,\n",
       " 'friends': 6,\n",
       " 'communication': 3,\n",
       " 'understanding': 2,\n",
       " 'compassion': 1,\n",
       " 'love': 0,\n",
       " 'chemotherapy and integrative therapies': 10,\n",
       " 'acupuncture': 9,\n",
       " 'massage': 8,\n",
       " 'yoga': 7,\n",
       " 'meditation': 5,\n",
       " 'reiki': 5,\n",
       " 'healing': 1,\n",
       " 'chemotherapy and mental health': 10,\n",
       " 'stress management': 4,\n",
       " 'anxiety': 3,\n",
       " 'depression': 2,\n",
       " 'chemotherapy and exercise': 10,\n",
       " 'physical therapy': 9,\n",
       " 'walking': 8,\n",
       " 'strength training': 6,\n",
       " 'cardio': 5,\n",
       " 'flexibility': 4,\n",
       " 'endurance': 2,\n",
       " 'motivation': 1,\n",
       " 'health': 0,\n",
       " 'chemotherapy and sleep': 10,\n",
       " 'routine': 9,\n",
       " 'environment': 6,\n",
       " 'sleep hygiene': 4,\n",
       " 'quality of sleep': 1}"
      ]
     },
     "execution_count": 10,
     "metadata": {},
     "output_type": "execute_result"
    }
   ],
   "source": [
    "L[1][1]"
   ]
  },
  {
   "cell_type": "code",
   "execution_count": null,
   "metadata": {},
   "outputs": [],
   "source": []
  }
 ],
 "metadata": {
  "kernelspec": {
   "display_name": ".venv",
   "language": "python",
   "name": "python3"
  },
  "language_info": {
   "codemirror_mode": {
    "name": "ipython",
    "version": 3
   },
   "file_extension": ".py",
   "mimetype": "text/x-python",
   "name": "python",
   "nbconvert_exporter": "python",
   "pygments_lexer": "ipython3",
   "version": "3.12.1"
  }
 },
 "nbformat": 4,
 "nbformat_minor": 2
}
