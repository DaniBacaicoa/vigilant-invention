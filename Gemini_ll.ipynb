{
 "cells": [
  {
   "cell_type": "code",
   "execution_count": 1,
   "metadata": {},
   "outputs": [
    {
     "name": "stderr",
     "output_type": "stream",
     "text": [
      "c:\\Users\\danibacaicoa\\vscode_projects\\vigilant-invention\\.venv\\Lib\\site-packages\\tqdm\\auto.py:21: TqdmWarning: IProgress not found. Please update jupyter and ipywidgets. See https://ipywidgets.readthedocs.io/en/stable/user_install.html\n",
      "  from .autonotebook import tqdm as notebook_tqdm\n"
     ]
    }
   ],
   "source": [
    "from src.kwd_generator_gemini import GeminiKeywordGenerator\n",
    "from datetime import datetime\n",
    "import pickle"
   ]
  },
  {
   "cell_type": "code",
   "execution_count": 2,
   "metadata": {},
   "outputs": [],
   "source": [
    "kw_generator = GeminiKeywordGenerator()"
   ]
  },
  {
   "cell_type": "markdown",
   "metadata": {},
   "source": [
    "## Data generation\n",
    "\n",
    "We will generate the keywords."
   ]
  },
  {
   "cell_type": "code",
   "execution_count": 3,
   "metadata": {},
   "outputs": [],
   "source": [
    "Read = False\n",
    "w0 = 'living lab'   # Topic\n",
    "n0 = 40         # Keywords related with first topic \n",
    "n1 = 100        # Keywords related with subsequent topics"
   ]
  },
  {
   "cell_type": "code",
   "execution_count": 4,
   "metadata": {},
   "outputs": [],
   "source": [
    "answer = kw_generator.get_kwds(w0,n0)"
   ]
  },
  {
   "cell_type": "code",
   "execution_count": 5,
   "metadata": {},
   "outputs": [],
   "source": [
    "string_dict = answer.strip('```python').strip()\n",
    "foo={}\n",
    "exec(string_dict,None,foo)"
   ]
  },
  {
   "cell_type": "code",
   "execution_count": 6,
   "metadata": {},
   "outputs": [
    {
     "data": {
      "text/plain": [
       "{'user-centered design': 10,\n",
       " 'co-creation': 9,\n",
       " 'innovation': 9,\n",
       " 'real-world environment': 8,\n",
       " 'stakeholder engagement': 8,\n",
       " 'participatory design': 8,\n",
       " 'feedback loop': 7,\n",
       " 'iterative design': 7,\n",
       " 'user experience': 7,\n",
       " 'human-centered design': 7,\n",
       " 'living laboratory': 7,\n",
       " 'testbed': 7,\n",
       " 'field study': 6,\n",
       " 'user research': 6,\n",
       " 'data collection': 6,\n",
       " 'evaluation': 6,\n",
       " 'smart city': 6,\n",
       " 'sustainability': 6,\n",
       " 'social innovation': 6,\n",
       " 'community engagement': 5,\n",
       " 'citizen science': 5,\n",
       " 'participatory action research': 5,\n",
       " 'empowerment': 5,\n",
       " 'learning': 5,\n",
       " 'knowledge creation': 5,\n",
       " 'social change': 5,\n",
       " 'health': 5,\n",
       " 'well-being': 5,\n",
       " 'environment': 5,\n",
       " 'energy': 5,\n",
       " 'transportation': 5,\n",
       " 'education': 5,\n",
       " 'policy': 5,\n",
       " 'governance': 5,\n",
       " 'ethics': 5,\n",
       " 'privacy': 5,\n",
       " 'security': 5}"
      ]
     },
     "execution_count": 6,
     "metadata": {},
     "output_type": "execute_result"
    }
   ],
   "source": [
    "foo[list(foo.keys())[0]]"
   ]
  },
  {
   "cell_type": "code",
   "execution_count": 7,
   "metadata": {},
   "outputs": [],
   "source": [
    "if Read == False:\n",
    "    L0 = []\n",
    "    keys0 = kw_generator.get_kwds(w0,n0)\n",
    "    string_dict = answer.strip('```python').strip()\n",
    "    foo={}\n",
    "    exec(string_dict,None,foo)\n",
    "    kwds0 = foo[list(foo.keys())[0]]\n",
    "    kwds0 = {**{w0:0},**kwds0}\n",
    "    L0.append(kwds0)\n"
   ]
  },
  {
   "cell_type": "code",
   "execution_count": 9,
   "metadata": {},
   "outputs": [],
   "source": [
    "L1 = []"
   ]
  },
  {
   "cell_type": "code",
   "execution_count": 15,
   "metadata": {},
   "outputs": [
    {
     "name": "stdout",
     "output_type": "stream",
     "text": [
      "ethics\n",
      "privacy\n",
      "security\n"
     ]
    }
   ],
   "source": [
    "if Read == False:\n",
    "    #L1 = []\n",
    "    for e, kwd in enumerate(L0[0]):\n",
    "        if e > len(L1):\n",
    "            print(kwd)\n",
    "            keys = kw_generator.get_kwds(kwd,n1)\n",
    "            string_dict = answer.strip('```python').strip()\n",
    "            foo={}\n",
    "            exec(string_dict,None,foo)\n",
    "            kwds = foo[list(foo.keys())[0]]\n",
    "            kwds = {**{kwd:0},**kwds}\n",
    "            L1.append(kwds)\n"
   ]
  },
  {
   "cell_type": "code",
   "execution_count": 16,
   "metadata": {},
   "outputs": [
    {
     "name": "stderr",
     "output_type": "stream",
     "text": [
      "<>:4: SyntaxWarning: invalid escape sequence '\\G'\n",
      "<>:4: SyntaxWarning: invalid escape sequence '\\G'\n",
      "C:\\Users\\danibacaicoa\\AppData\\Local\\Temp\\ipykernel_27396\\3895660754.py:4: SyntaxWarning: invalid escape sequence '\\G'\n",
      "  file_name = f'Keywords_datasets\\Gemini_{w0}_keywords_{fecha.year}{fecha.month:02d}{fecha.day:02d}.pickle'\n"
     ]
    }
   ],
   "source": [
    "if Read == False:\n",
    "    L = [L0,L1]\n",
    "    fecha = datetime.now()\n",
    "    file_name = f'Keywords_datasets\\Gemini_{w0}_keywords_{fecha.year}{fecha.month:02d}{fecha.day:02d}.pickle'\n",
    "\n",
    "    # We could do it with:\n",
    "    f = open(file_name, 'wb')\n",
    "    pickle.dump(L, f)\n",
    "    f.close()\n"
   ]
  },
  {
   "cell_type": "code",
   "execution_count": 17,
   "metadata": {},
   "outputs": [
    {
     "name": "stdout",
     "output_type": "stream",
     "text": [
      "37\n",
      "37\n",
      "37\n",
      "37\n",
      "37\n",
      "37\n",
      "37\n",
      "37\n",
      "37\n",
      "37\n",
      "37\n",
      "37\n",
      "37\n",
      "37\n",
      "37\n",
      "37\n",
      "37\n",
      "37\n",
      "37\n",
      "37\n",
      "37\n",
      "37\n",
      "37\n",
      "37\n",
      "37\n",
      "37\n",
      "37\n",
      "37\n",
      "37\n",
      "37\n",
      "37\n",
      "37\n",
      "37\n",
      "37\n",
      "37\n",
      "37\n",
      "37\n"
     ]
    }
   ],
   "source": [
    "for dictionary in L[1]:\n",
    "    print(len(dictionary))"
   ]
  },
  {
   "cell_type": "code",
   "execution_count": null,
   "metadata": {},
   "outputs": [],
   "source": []
  }
 ],
 "metadata": {
  "kernelspec": {
   "display_name": ".venv",
   "language": "python",
   "name": "python3"
  },
  "language_info": {
   "codemirror_mode": {
    "name": "ipython",
    "version": 3
   },
   "file_extension": ".py",
   "mimetype": "text/x-python",
   "name": "python",
   "nbconvert_exporter": "python",
   "pygments_lexer": "ipython3",
   "version": "3.12.2"
  }
 },
 "nbformat": 4,
 "nbformat_minor": 2
}
