{
 "cells": [
  {
   "cell_type": "code",
   "execution_count": 1,
   "metadata": {},
   "outputs": [
    {
     "name": "stderr",
     "output_type": "stream",
     "text": [
      "c:\\Users\\danibacaicoa\\vscode_projects\\vigilant-invention\\.venv\\Lib\\site-packages\\tqdm\\auto.py:21: TqdmWarning: IProgress not found. Please update jupyter and ipywidgets. See https://ipywidgets.readthedocs.io/en/stable/user_install.html\n",
      "  from .autonotebook import tqdm as notebook_tqdm\n"
     ]
    }
   ],
   "source": [
    "from src.kwd_generator_gemini import GeminiKeywordGenerator\n",
    "from datetime import datetime\n",
    "import pickle"
   ]
  },
  {
   "cell_type": "code",
   "execution_count": 2,
   "metadata": {},
   "outputs": [],
   "source": [
    "kw_generator = GeminiKeywordGenerator()"
   ]
  },
  {
   "cell_type": "markdown",
   "metadata": {},
   "source": [
    "## Data generation\n",
    "\n",
    "We will generate the keywords."
   ]
  },
  {
   "cell_type": "code",
   "execution_count": 3,
   "metadata": {},
   "outputs": [],
   "source": [
    "Read = False\n",
    "w0 = 'living lab'   # Topic\n",
    "n0 = 40         # Keywords related with first topic \n",
    "n1 = 100        # Keywords related with subsequent topics"
   ]
  },
  {
   "cell_type": "code",
   "execution_count": 4,
   "metadata": {},
   "outputs": [],
   "source": [
    "answer = kw_generator.get_kwds(w0,n0)"
   ]
  },
  {
   "cell_type": "code",
   "execution_count": 6,
   "metadata": {},
   "outputs": [
    {
     "data": {
      "text/plain": [
       "'```python\\nliving_lab_keywords = {\\n    \"open innovation\": 9,\\n    \"user-centric\": 10,\\n    \"co-creation\": 9,\\n    \"real-world experiments\": 8,\\n    \"urban innovation\": 8,\\n    \"smart cities\": 7,\\n    \"citizen engagement\": 8,\\n    \"stakeholder involvement\": 9,\\n    \"innovation ecosystem\": 7,\\n    \"testbed\": 8,\\n    \"pilot project\": 7,\\n    \"user experience\": 7,\\n    \"social innovation\": 8,\\n    \"sustainability\": 7,\\n    \"digital transformation\": 6,\\n    \"research and development\": 6,\\n    \"collaboration\": 9,\\n    \"public-private partnership\": 7,\\n    \"community involvement\": 8,\\n    \"data collection\": 6,\\n    \"prototyping\": 7,\\n    \"iterative design\": 6,\\n    \"user feedback\": 8,\\n    \"evaluation\": 6,\\n    \"impact assessment\": 6,\\n    \"scalability\": 7,\\n    \"knowledge sharing\": 7,\\n    \"policy making\": 6,\\n    \"urban planning\": 7,\\n    \"digital technologies\": 6,\\n    \"internet of things\": 6,\\n    \"big data\": 5,\\n    \"artificial intelligence\": 5,\\n    \"civic tech\": 6,\\n    \"social impact\": 7,\\n    \"design thinking\": 6,\\n    \"agile methodologies\": 5,\\n    \"experimental research\": 7,\\n    \"real-time data\": 6\\n}\\n``` \\n'"
      ]
     },
     "execution_count": 6,
     "metadata": {},
     "output_type": "execute_result"
    }
   ],
   "source": [
    "answer"
   ]
  },
  {
   "cell_type": "code",
   "execution_count": 8,
   "metadata": {},
   "outputs": [
    {
     "ename": "SyntaxError",
     "evalue": "invalid syntax (<string>, line 42)",
     "output_type": "error",
     "traceback": [
      "Traceback \u001b[1;36m(most recent call last)\u001b[0m:\n",
      "\u001b[0m  File \u001b[0;32mc:\\Users\\danibacaicoa\\vscode_projects\\vigilant-invention\\.venv\\Lib\\site-packages\\IPython\\core\\interactiveshell.py:3550\u001b[0m in \u001b[0;35mrun_code\u001b[0m\n    exec(code_obj, self.user_global_ns, self.user_ns)\u001b[0m\n",
      "\u001b[1;36m  Cell \u001b[1;32mIn[8], line 3\u001b[1;36m\n\u001b[1;33m    exec(string_dict,None,foo)\u001b[1;36m\n",
      "\u001b[1;36m  File \u001b[1;32m<string>:42\u001b[1;36m\u001b[0m\n\u001b[1;33m    ```\u001b[0m\n\u001b[1;37m    ^\u001b[0m\n\u001b[1;31mSyntaxError\u001b[0m\u001b[1;31m:\u001b[0m invalid syntax\n"
     ]
    }
   ],
   "source": [
    "string_dict = answer.strip('```python').strip()\n",
    "foo={}\n",
    "exec(string_dict,None,foo)"
   ]
  },
  {
   "cell_type": "code",
   "execution_count": 7,
   "metadata": {},
   "outputs": [
    {
     "ename": "IndexError",
     "evalue": "list index out of range",
     "output_type": "error",
     "traceback": [
      "\u001b[1;31m---------------------------------------------------------------------------\u001b[0m",
      "\u001b[1;31mIndexError\u001b[0m                                Traceback (most recent call last)",
      "Cell \u001b[1;32mIn[7], line 1\u001b[0m\n\u001b[1;32m----> 1\u001b[0m foo[\u001b[38;5;28;43mlist\u001b[39;49m\u001b[43m(\u001b[49m\u001b[43mfoo\u001b[49m\u001b[38;5;241;43m.\u001b[39;49m\u001b[43mkeys\u001b[49m\u001b[43m(\u001b[49m\u001b[43m)\u001b[49m\u001b[43m)\u001b[49m\u001b[43m[\u001b[49m\u001b[38;5;241;43m0\u001b[39;49m\u001b[43m]\u001b[49m]\n",
      "\u001b[1;31mIndexError\u001b[0m: list index out of range"
     ]
    }
   ],
   "source": [
    "foo[list(foo.keys())[0]]"
   ]
  },
  {
   "cell_type": "code",
   "execution_count": 7,
   "metadata": {},
   "outputs": [],
   "source": [
    "if Read == False:\n",
    "    L0 = []\n",
    "    keys0 = kw_generator.get_kwds(w0,n0)\n",
    "    string_dict = answer.strip('```python').strip()\n",
    "    foo={}\n",
    "    exec(string_dict,None,foo)\n",
    "    kwds0 = foo[list(foo.keys())[0]]\n",
    "    kwds0 = {**{w0:0},**kwds0}\n",
    "    L0.append(kwds0)\n"
   ]
  },
  {
   "cell_type": "code",
   "execution_count": 9,
   "metadata": {},
   "outputs": [],
   "source": [
    "L1 = []"
   ]
  },
  {
   "cell_type": "code",
   "execution_count": 15,
   "metadata": {},
   "outputs": [
    {
     "name": "stdout",
     "output_type": "stream",
     "text": [
      "ethics\n",
      "privacy\n",
      "security\n"
     ]
    }
   ],
   "source": [
    "if Read == False:\n",
    "    #L1 = []\n",
    "    for e, kwd in enumerate(L0[0]):\n",
    "        if e > len(L1):\n",
    "            print(kwd)\n",
    "            keys = kw_generator.get_kwds(kwd,n1)\n",
    "            string_dict = answer.strip('```python').strip()\n",
    "            foo={}\n",
    "            exec(string_dict,None,foo)\n",
    "            kwds = foo[list(foo.keys())[0]]\n",
    "            kwds = {**{kwd:0},**kwds}\n",
    "            L1.append(kwds)\n"
   ]
  },
  {
   "cell_type": "code",
   "execution_count": 16,
   "metadata": {},
   "outputs": [
    {
     "name": "stderr",
     "output_type": "stream",
     "text": [
      "<>:4: SyntaxWarning: invalid escape sequence '\\G'\n",
      "<>:4: SyntaxWarning: invalid escape sequence '\\G'\n",
      "C:\\Users\\danibacaicoa\\AppData\\Local\\Temp\\ipykernel_27396\\3895660754.py:4: SyntaxWarning: invalid escape sequence '\\G'\n",
      "  file_name = f'Keywords_datasets\\Gemini_{w0}_keywords_{fecha.year}{fecha.month:02d}{fecha.day:02d}.pickle'\n"
     ]
    }
   ],
   "source": [
    "if Read == False:\n",
    "    L = [L0,L1]\n",
    "    fecha = datetime.now()\n",
    "    file_name = f'Keywords_datasets\\Gemini_{w0}_keywords_{fecha.year}{fecha.month:02d}{fecha.day:02d}.pickle'\n",
    "\n",
    "    # We could do it with:\n",
    "    f = open(file_name, 'wb')\n",
    "    pickle.dump(L, f)\n",
    "    f.close()\n"
   ]
  },
  {
   "cell_type": "code",
   "execution_count": 17,
   "metadata": {},
   "outputs": [
    {
     "name": "stdout",
     "output_type": "stream",
     "text": [
      "37\n",
      "37\n",
      "37\n",
      "37\n",
      "37\n",
      "37\n",
      "37\n",
      "37\n",
      "37\n",
      "37\n",
      "37\n",
      "37\n",
      "37\n",
      "37\n",
      "37\n",
      "37\n",
      "37\n",
      "37\n",
      "37\n",
      "37\n",
      "37\n",
      "37\n",
      "37\n",
      "37\n",
      "37\n",
      "37\n",
      "37\n",
      "37\n",
      "37\n",
      "37\n",
      "37\n",
      "37\n",
      "37\n",
      "37\n",
      "37\n",
      "37\n",
      "37\n"
     ]
    }
   ],
   "source": [
    "for dictionary in L[1]:\n",
    "    print(len(dictionary))"
   ]
  },
  {
   "cell_type": "code",
   "execution_count": null,
   "metadata": {},
   "outputs": [],
   "source": []
  }
 ],
 "metadata": {
  "kernelspec": {
   "display_name": ".venv",
   "language": "python",
   "name": "python3"
  },
  "language_info": {
   "codemirror_mode": {
    "name": "ipython",
    "version": 3
   },
   "file_extension": ".py",
   "mimetype": "text/x-python",
   "name": "python",
   "nbconvert_exporter": "python",
   "pygments_lexer": "ipython3",
   "version": "3.12.2"
  }
 },
 "nbformat": 4,
 "nbformat_minor": 2
}
