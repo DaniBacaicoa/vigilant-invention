{
 "cells": [
  {
   "cell_type": "markdown",
   "metadata": {},
   "source": [
    "# Mini example of keyword selection"
   ]
  },
  {
   "cell_type": "code",
   "execution_count": 1,
   "metadata": {},
   "outputs": [],
   "source": [
    "from src.keyword_generator_2 import KeywordGenerator\n",
    "import os\n",
    "import pathlib\n",
    "\n",
    "from dotenv import load_dotenv, find_dotenv\n",
    "from openai import OpenAI\n",
    "\n",
    "import pandas as pd\n",
    "import networkx as nx\n",
    "\n",
    "import matplotlib.pyplot as plt\n",
    "import numpy as np"
   ]
  },
  {
   "cell_type": "code",
   "execution_count": 2,
   "metadata": {},
   "outputs": [],
   "source": [
    "kw_generator = KeywordGenerator(model='gpt-3.5-turbo')"
   ]
  },
  {
   "cell_type": "code",
   "execution_count": 3,
   "metadata": {},
   "outputs": [],
   "source": [
    "w0 = 'living-lab'\n",
    "n0 = 7\n",
    "n1 = 14\n",
    "\n",
    "keys = kw_generator.get_kwds(w0,n0)\n",
    "kw_list = keys.split(', ')\n",
    "kwds_dict = {}\n",
    "for w in kw_list:\n",
    "    kwds_dict[w[:-4]] = int(w[-2:-1])\n",
    "kwds = [kwds_dict]\n",
    "\n",
    "for w in kwds[0].keys():\n",
    "    keys = kw_generator.get_kwds(w,10)\n",
    "    kw_list = keys.split(', ')\n",
    "    kwds_dict = {w:0}\n",
    "    for w1 in kw_list:\n",
    "        kwds_dict[w1[:-4]] = int(w1[-2:-1])\n",
    "    kwds.append(kwds_dict)\n",
    "kwds[0] = {**{w0:0},**kwds[0]}"
   ]
  },
  {
   "cell_type": "code",
   "execution_count": 4,
   "metadata": {},
   "outputs": [
    {
     "data": {
      "text/plain": [
       "[{'living-lab': 0,\n",
       "  'research': 5,\n",
       "  'innovation': 4,\n",
       "  'user-centered design': 4,\n",
       "  'collaboration': 3,\n",
       "  'experimentation': 3,\n",
       "  'co-creation': 3,\n",
       "  'technology': 2},\n",
       " {'research': 0,\n",
       "  'data analysis': 5,\n",
       "  'experimentation': 4,\n",
       "  'literature review': 4,\n",
       "  'methodology': 4,\n",
       "  'findings': 3,\n",
       "  'hypothesis': 3,\n",
       "  'peer review': 3,\n",
       "  'survey': 2,\n",
       "  'publication': 2,\n",
       "  'academic': 2},\n",
       " {'innovation': 0,\n",
       "  'creativity': 5,\n",
       "  'technology': 4,\n",
       "  'disruption': 4,\n",
       "  'invention': 4,\n",
       "  'progress': 3,\n",
       "  'entrepreneurship': 3,\n",
       "  'research': 3,\n",
       "  'development': 3,\n",
       "  'design': 2,\n",
       "  'improvement': 2},\n",
       " {'user-centered design': 0,\n",
       "  'user experience': 5,\n",
       "  'usability testing': 4,\n",
       "  'prototyping': 4,\n",
       "  'user research': 4,\n",
       "  'iterative design': 3,\n",
       "  'human-computer interaction': 3,\n",
       "  'user interface design': 3,\n",
       "  'empathy': 2,\n",
       "  'wireframing': 2,\n",
       "  'accessibility': 2},\n",
       " {'collaboration': 0,\n",
       "  'teamwork': 5,\n",
       "  'communication': 4,\n",
       "  'cooperation': 4,\n",
       "  'synergy': 4,\n",
       "  'partnership': 3,\n",
       "  'coordination': 3,\n",
       "  'group work': 3,\n",
       "  'unity': 2,\n",
       "  'joint effort': 2,\n",
       "  'alliance': 2},\n",
       " {'experimentation': 0,\n",
       "  'hypothesis testing': 5,\n",
       "  'research design': 4,\n",
       "  'data analysis': 4,\n",
       "  'control group': 4,\n",
       "  'variables': 3,\n",
       "  'scientific method': 3,\n",
       "  'sample size': 3,\n",
       "  'statistical significance': 3,\n",
       "  'qualitative research': 2,\n",
       "  'quantitative research': 2},\n",
       " {'co-creation': 0,\n",
       "  'collaboration': 5,\n",
       "  'innovation': 4,\n",
       "  'creativity': 4,\n",
       "  'partnership': 4,\n",
       "  'user involvement': 3,\n",
       "  'shared value': 3,\n",
       "  'customer engagement': 3,\n",
       "  'open communication': 2,\n",
       "  'joint development': 2,\n",
       "  'participatory design': 2},\n",
       " {'technology': 0,\n",
       "  'innovation': 5,\n",
       "  'digital': 4,\n",
       "  'automation': 4,\n",
       "  'internet': 4,\n",
       "  'data': 3,\n",
       "  'connectivity': 3,\n",
       "  'software': 3,\n",
       "  'hardware': 2,\n",
       "  'cybersecurity': 2,\n",
       "  'artificial intelligence': 2}]"
      ]
     },
     "execution_count": 4,
     "metadata": {},
     "output_type": "execute_result"
    }
   ],
   "source": [
    "kwds"
   ]
  },
  {
   "cell_type": "code",
   "execution_count": null,
   "metadata": {},
   "outputs": [],
   "source": []
  }
 ],
 "metadata": {
  "kernelspec": {
   "display_name": "Python 3",
   "language": "python",
   "name": "python3"
  },
  "language_info": {
   "codemirror_mode": {
    "name": "ipython",
    "version": 3
   },
   "file_extension": ".py",
   "mimetype": "text/x-python",
   "name": "python",
   "nbconvert_exporter": "python",
   "pygments_lexer": "ipython3",
   "version": "3.12.2"
  }
 },
 "nbformat": 4,
 "nbformat_minor": 2
}
