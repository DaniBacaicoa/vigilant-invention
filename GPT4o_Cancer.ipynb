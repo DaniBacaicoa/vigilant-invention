{
 "cells": [
  {
   "cell_type": "code",
   "execution_count": 10,
   "metadata": {},
   "outputs": [],
   "source": [
    "from src.gpt_personalized_keyword_generator import KeywordGenerator\n",
    "import os\n",
    "import pathlib\n",
    "\n",
    "from dotenv import load_dotenv, find_dotenv\n",
    "from openai import OpenAI\n",
    "\n",
    "import pandas as pd\n",
    "import networkx as nx\n",
    "\n",
    "import matplotlib.pyplot as plt\n",
    "import numpy as np\n",
    "from datetime import datetime\n",
    "\n",
    "import re\n",
    "import pickle"
   ]
  },
  {
   "cell_type": "code",
   "execution_count": 11,
   "metadata": {},
   "outputs": [],
   "source": [
    "kw_generator = KeywordGenerator(model='gpt-4o')"
   ]
  },
  {
   "cell_type": "markdown",
   "metadata": {},
   "source": [
    "## Data generation\n",
    "We will generate the keywords. After that we will save them si if you want to generate new ones"
   ]
  },
  {
   "cell_type": "code",
   "execution_count": 16,
   "metadata": {},
   "outputs": [],
   "source": [
    "Read = False\n",
    "w0 = 'cancer'   # Topic\n",
    "n0 = 40         # Keywords related with first topic \n",
    "n1 = 100        # Keywords related with subsequent topics"
   ]
  },
  {
   "cell_type": "code",
   "execution_count": 18,
   "metadata": {},
   "outputs": [],
   "source": [
    "if Read == False:\n",
    "    L0 = [] #This is the dictionary for the first level\n",
    "    keys0 = kw_generator.kwds_prompt(w0,n0)\n",
    "    json_str = keys0.strip('```python').strip('```')\n",
    "    kwds0 = json.loads(json_str)\n",
    "    #kwds0 = eval(keys0)\n",
    "    kwds0 = {**{w0:0},**kwds0}\n",
    "    L0.append(kwds0)\n"
   ]
  },
  {
   "cell_type": "code",
   "execution_count": 19,
   "metadata": {},
   "outputs": [],
   "source": [
    "L1 = []"
   ]
  },
  {
   "cell_type": "code",
   "execution_count": 20,
   "metadata": {},
   "outputs": [
    {
     "name": "stdout",
     "output_type": "stream",
     "text": [
      "tumor\n",
      "oncology\n",
      "chemotherapy\n",
      "radiation\n",
      "metastasis\n",
      "biopsy\n",
      "carcinoma\n",
      "malignant\n",
      "benign\n",
      "immunotherapy\n",
      "genetics\n"
     ]
    },
    {
     "ename": "NameError",
     "evalue": "name 'correction_len' is not defined",
     "output_type": "error",
     "traceback": [
      "\u001b[1;31m---------------------------------------------------------------------------\u001b[0m",
      "\u001b[1;31mJSONDecodeError\u001b[0m                           Traceback (most recent call last)",
      "Cell \u001b[1;32mIn[20], line 8\u001b[0m\n\u001b[0;32m      7\u001b[0m     json_str \u001b[38;5;241m=\u001b[39m keys\u001b[38;5;241m.\u001b[39mstrip(\u001b[38;5;124m'\u001b[39m\u001b[38;5;124m```python\u001b[39m\u001b[38;5;124m'\u001b[39m)\u001b[38;5;241m.\u001b[39mstrip(\u001b[38;5;124m'\u001b[39m\u001b[38;5;124m```\u001b[39m\u001b[38;5;124m'\u001b[39m)\n\u001b[1;32m----> 8\u001b[0m     kwds \u001b[38;5;241m=\u001b[39m \u001b[43mjson\u001b[49m\u001b[38;5;241;43m.\u001b[39;49m\u001b[43mloads\u001b[49m\u001b[43m(\u001b[49m\u001b[43mjson_str\u001b[49m\u001b[43m)\u001b[49m\n\u001b[0;32m      9\u001b[0m \u001b[38;5;28;01mexcept\u001b[39;00m:\n",
      "File \u001b[1;32mC:\\Program Files\\Python312\\Lib\\json\\__init__.py:346\u001b[0m, in \u001b[0;36mloads\u001b[1;34m(s, cls, object_hook, parse_float, parse_int, parse_constant, object_pairs_hook, **kw)\u001b[0m\n\u001b[0;32m    343\u001b[0m \u001b[38;5;28;01mif\u001b[39;00m (\u001b[38;5;28mcls\u001b[39m \u001b[38;5;129;01mis\u001b[39;00m \u001b[38;5;28;01mNone\u001b[39;00m \u001b[38;5;129;01mand\u001b[39;00m object_hook \u001b[38;5;129;01mis\u001b[39;00m \u001b[38;5;28;01mNone\u001b[39;00m \u001b[38;5;129;01mand\u001b[39;00m\n\u001b[0;32m    344\u001b[0m         parse_int \u001b[38;5;129;01mis\u001b[39;00m \u001b[38;5;28;01mNone\u001b[39;00m \u001b[38;5;129;01mand\u001b[39;00m parse_float \u001b[38;5;129;01mis\u001b[39;00m \u001b[38;5;28;01mNone\u001b[39;00m \u001b[38;5;129;01mand\u001b[39;00m\n\u001b[0;32m    345\u001b[0m         parse_constant \u001b[38;5;129;01mis\u001b[39;00m \u001b[38;5;28;01mNone\u001b[39;00m \u001b[38;5;129;01mand\u001b[39;00m object_pairs_hook \u001b[38;5;129;01mis\u001b[39;00m \u001b[38;5;28;01mNone\u001b[39;00m \u001b[38;5;129;01mand\u001b[39;00m \u001b[38;5;129;01mnot\u001b[39;00m kw):\n\u001b[1;32m--> 346\u001b[0m     \u001b[38;5;28;01mreturn\u001b[39;00m \u001b[43m_default_decoder\u001b[49m\u001b[38;5;241;43m.\u001b[39;49m\u001b[43mdecode\u001b[49m\u001b[43m(\u001b[49m\u001b[43ms\u001b[49m\u001b[43m)\u001b[49m\n\u001b[0;32m    347\u001b[0m \u001b[38;5;28;01mif\u001b[39;00m \u001b[38;5;28mcls\u001b[39m \u001b[38;5;129;01mis\u001b[39;00m \u001b[38;5;28;01mNone\u001b[39;00m:\n",
      "File \u001b[1;32mC:\\Program Files\\Python312\\Lib\\json\\decoder.py:337\u001b[0m, in \u001b[0;36mJSONDecoder.decode\u001b[1;34m(self, s, _w)\u001b[0m\n\u001b[0;32m    333\u001b[0m \u001b[38;5;250m\u001b[39m\u001b[38;5;124;03m\"\"\"Return the Python representation of ``s`` (a ``str`` instance\u001b[39;00m\n\u001b[0;32m    334\u001b[0m \u001b[38;5;124;03mcontaining a JSON document).\u001b[39;00m\n\u001b[0;32m    335\u001b[0m \n\u001b[0;32m    336\u001b[0m \u001b[38;5;124;03m\"\"\"\u001b[39;00m\n\u001b[1;32m--> 337\u001b[0m obj, end \u001b[38;5;241m=\u001b[39m \u001b[38;5;28;43mself\u001b[39;49m\u001b[38;5;241;43m.\u001b[39;49m\u001b[43mraw_decode\u001b[49m\u001b[43m(\u001b[49m\u001b[43ms\u001b[49m\u001b[43m,\u001b[49m\u001b[43m \u001b[49m\u001b[43midx\u001b[49m\u001b[38;5;241;43m=\u001b[39;49m\u001b[43m_w\u001b[49m\u001b[43m(\u001b[49m\u001b[43ms\u001b[49m\u001b[43m,\u001b[49m\u001b[43m \u001b[49m\u001b[38;5;241;43m0\u001b[39;49m\u001b[43m)\u001b[49m\u001b[38;5;241;43m.\u001b[39;49m\u001b[43mend\u001b[49m\u001b[43m(\u001b[49m\u001b[43m)\u001b[49m\u001b[43m)\u001b[49m\n\u001b[0;32m    338\u001b[0m end \u001b[38;5;241m=\u001b[39m _w(s, end)\u001b[38;5;241m.\u001b[39mend()\n",
      "File \u001b[1;32mC:\\Program Files\\Python312\\Lib\\json\\decoder.py:353\u001b[0m, in \u001b[0;36mJSONDecoder.raw_decode\u001b[1;34m(self, s, idx)\u001b[0m\n\u001b[0;32m    352\u001b[0m \u001b[38;5;28;01mtry\u001b[39;00m:\n\u001b[1;32m--> 353\u001b[0m     obj, end \u001b[38;5;241m=\u001b[39m \u001b[38;5;28;43mself\u001b[39;49m\u001b[38;5;241;43m.\u001b[39;49m\u001b[43mscan_once\u001b[49m\u001b[43m(\u001b[49m\u001b[43ms\u001b[49m\u001b[43m,\u001b[49m\u001b[43m \u001b[49m\u001b[43midx\u001b[49m\u001b[43m)\u001b[49m\n\u001b[0;32m    354\u001b[0m \u001b[38;5;28;01mexcept\u001b[39;00m \u001b[38;5;167;01mStopIteration\u001b[39;00m \u001b[38;5;28;01mas\u001b[39;00m err:\n",
      "\u001b[1;31mJSONDecodeError\u001b[0m: Unterminated string starting at: line 401 column 5 (char 15318)",
      "\nDuring handling of the above exception, another exception occurred:\n",
      "\u001b[1;31mNameError\u001b[0m                                 Traceback (most recent call last)",
      "Cell \u001b[1;32mIn[20], line 10\u001b[0m\n\u001b[0;32m      8\u001b[0m     kwds \u001b[38;5;241m=\u001b[39m json\u001b[38;5;241m.\u001b[39mloads(json_str)\n\u001b[0;32m      9\u001b[0m \u001b[38;5;28;01mexcept\u001b[39;00m:\n\u001b[1;32m---> 10\u001b[0m     \u001b[38;5;28mprint\u001b[39m(keys[\u001b[38;5;241m-\u001b[39m\u001b[43mcorrection_len\u001b[49m:])\n\u001b[0;32m     11\u001b[0m     solution \u001b[38;5;241m=\u001b[39m \u001b[38;5;28minput\u001b[39m(\u001b[38;5;124m\"\u001b[39m\u001b[38;5;124mEnter a solution:\u001b[39m\u001b[38;5;124m\"\u001b[39m)\n\u001b[0;32m     12\u001b[0m     keys \u001b[38;5;241m=\u001b[39m keys[:\u001b[38;5;241m-\u001b[39mcorrection_len] \u001b[38;5;241m+\u001b[39m solution\n",
      "\u001b[1;31mNameError\u001b[0m: name 'correction_len' is not defined"
     ]
    }
   ],
   "source": [
    "if Read == False:\n",
    "    for e, kwd in enumerate(L0[0]):\n",
    "        if e > len(L1):\n",
    "            print(kwd)\n",
    "            keys = kw_generator.kwds_prompt(kwd,n1)\n",
    "            try:\n",
    "                json_str = keys.strip('```python').strip('```')\n",
    "                kwds = json.loads(json_str)\n",
    "            except:\n",
    "                print(keys[-correction_len:])\n",
    "                solution = input(\"Enter a solution:\")\n",
    "                keys = keys[:-correction_len] + solution\n",
    "                kwds = eval(keys)\n",
    "            kwds = {**{kwd:0},**kwds}\n",
    "            L1.append(kwds)"
   ]
  },
  {
   "cell_type": "code",
   "execution_count": 21,
   "metadata": {},
   "outputs": [
    {
     "data": {
      "text/plain": [
       "'\\n{\\n    \"DNA\": 10,\\n    \"gene\": 10,\\n    \"chromosome\": 9,\\n    \"genome\": 10,\\n    \"mutation\": 9,\\n    \"heredity\": 8,\\n    \"allele\": 8,\\n    \"trait\": 7,\\n    \"genotype\": 8,\\n    \"phenotype\": 8,\\n    \"inheritance\": 8,\\n    \"sequence\": 7,\\n    \"nucleotide\": 7,\\n    \"variation\": 8,\\n    \"recombination\": 7,\\n    \"expression\": 8,\\n    \"epigenetics\": 7,\\n    \"transcription\": 8,\\n    \"translation\": 7,\\n    \"replication\": 8,\\n    \"polymorphism\": 7,\\n    \"locus\": 7,\\n    \"exon\": 7,\\n    \"intron\": 7,\\n    \"codon\": 7,\\n    \"promoter\": 7,\\n    \"regulation\": 8,\\n    \"protein\": 8,\\n    \"enzyme\": 7,\\n    \"genetic_code\": 7,\\n    \"genetic_map\": 6,\\n    \"linkage\": 6,\\n    \"homozygous\": 7,\\n    \"heterozygous\": 7,\\n    \"dominant\": 7,\\n    \"recessive\": 7,\\n    \"mendelian\": 7,\\n    \"nonmendelian\": 6,\\n    \"genetic_drift\": 6,\\n    \"gene_pool\": 6,\\n    \"population\": 7,\\n    \"evolution\": 8,\\n    \"natural_selection\": 7,\\n    \"adaptation\": 7,\\n    \"fitness\": 7,\\n    \"speciation\": 6,\\n    \"phylogeny\": 6,\\n    \"cloning\": 7,\\n    \"CRISPR\": 8,\\n    \"gene_therapy\": 8,\\n    \"genetic_engineering\": 8,\\n    \"biotechnology\": 7,\\n    \"genetic_disorder\": 7,\\n    \"genetic_testing\": 7,\\n    \"genetic_counseling\": 7,\\n    \"genetic_screening\": 7,\\n    \"genetic_marker\": 7,\\n    \"genetic_variation\": 8,\\n    \"genetic_linkage\": 7,\\n    \"genetic_recombination\": 7,\\n    \"genetic_mutation\": 8,\\n    \"genetic_expression\": 8,\\n    \"genetic_code\": 7,\\n    \"genetic_map\": 6,\\n    \"genetic_drift\": 6,\\n    \"gene_pool\": 6,\\n    \"population_genetics\": 7,\\n    \"quantitative_genetics\": 6,\\n    \"molecular_genetics\": 8,\\n    \"behavioral_genetics\": 7,\\n    \"developmental_genetics\": 7,\\n    \"conservation_genetics\": 6,\\n    \"ecological_genetics\": 6,\\n    \"medical_genetics\": 8,\\n    \"pharmacogenetics\": 7,\\n    \"forensic_genetics\": 7,\\n    \"genomics\": 9,\\n    \"transcriptomics\": 7,\\n    \"proteomics\": 7,\\n    \"metabolomics\": 7,\\n    \"bioinformatics\": 8,\\n    \"systems_biology\": 7,\\n    \"synthetic_biology\": 7,\\n    \"personalized_medicine\": 8,\\n    \"gene_expression\": 8,\\n    \"gene_regulation\": 8,\\n    \"gene_silencing\": 7,\\n    \"gene_knockout\": 7,\\n    \"gene_editing\": 8,\\n    \"gene_transfer\": 7,\\n    \"gene_duplication\": 7,\\n    \"gene_deletion\": 7,\\n    \"gene_amplification\": 7,\\n    \"gene_conversion\": 7,\\n    \"gene_flow\": 7,\\n    \"gene_family\": 7,\\n    \"gene_network\": 7,\\n    \"gene_interaction\": 7,\\n    \"gene_ontology\": 7,\\n    \"gene_cluster\": 7,\\n    \"gene_fusion\": 7,\\n    \"gene_splicing\": 7,\\n    \"gene_regulatory_network\": 7,\\n    \"gene_expression_profile\": 7,\\n    \"gene_expression_analysis\": 7,\\n    \"gene_expression_data\": 7,\\n    \"gene_expression_study\": 7,\\n    \"gene_expression_pattern\": 7,\\n    \"gene_expression_level\": 7,\\n    \"gene_expression_change\": 7,\\n    \"gene_expression_variation\": 7,\\n    \"gene_expression_dynamics\": 7,\\n    \"gene_expression_modulation\": 7,\\n    \"gene_expression_control\": 7,\\n    \"gene_expression_regulation\": 7,\\n    \"gene_expression_mechanism\": 7,\\n    \"gene_expression_process\": 7,\\n    \"gene_expression_system\": 7,\\n    \"gene_expression_technology\": 7,\\n    \"gene_expression_tool\": 7,\\n    \"gene_expression_method\": 7,\\n    \"gene_expression_approach\": 7,\\n    \"gene_expression_technique\": 7,\\n    \"gene_expression_strategy\": 7,\\n    \"gene_expression_protocol\": 7,\\n    \"gene_expression_procedure\": 7,\\n    \"gene_expression_experiment\": 7,\\n    \"gene_expression_study_design\": 7,\\n    \"gene_expression_analysis_method\": 7,\\n    \"gene_expression_analysis_technique\": 7,\\n    \"gene_expression_analysis_tool\": 7,\\n    \"gene_expression_analysis_approach\": 7,\\n    \"gene_expression_analysis_strategy\": 7,\\n    \"gene_expression_analysis_protocol\": 7,\\n    \"gene_expression_analysis_procedure\": 7,\\n    \"gene_expression_analysis_experiment\": 7,\\n    \"gene_expression_analysis_study_design\": 7,\\n    \"gene_expression_analysis_methodology\": 7,\\n    \"gene_expression_analysis_technology\": 7,\\n    \"gene_expression_analysis_toolkit\": 7,\\n    \"gene_expression_analysis_software\": 7,\\n    \"gene_expression_analysis_pipeline\": 7,\\n    \"gene_expression_analysis_workflow\": 7,\\n    \"gene_expression_analysis_framework\": 7,\\n    \"gene_expression_analysis_platform\": 7,\\n    \"gene_expression_analysis_system\": 7,\\n    \"gene_expression_analysis_service\": 7,\\n    \"gene_expression_analysis_solution\": 7,\\n    \"gene_expression_analysis_product\": 7,\\n    \"gene_expression_analysis_application\": 7,\\n    \"gene_expression_analysis_toolset\": 7,\\n    \"gene_expression_analysis_kit\": 7,\\n    \"gene_expression_analysis_package\": 7,\\n    \"gene_expression_analysis_suite\": 7,\\n    \"gene_expression_analysis_library\": 7,\\n    \"gene_expression_analysis_resource\": 7,\\n    \"gene_expression_analysis_database\": 7,\\n    \"gene_expression_analysis_repository\": 7,\\n    \"gene_expression_analysis_dataset\": 7,\\n    \"gene_expression_analysis_data\": 7,\\n    \"gene_expression_analysis_information\": 7,\\n    \"gene_expression_analysis_knowledge\": 7,\\n    \"gene_expression_analysis_insight\": 7,\\n    \"gene_expression_analysis_finding\": 7,\\n    \"gene_expression_analysis_result\": 7,\\n    \"gene_expression_analysis_outcome\": 7,\\n    \"gene_expression_analysis_conclusion\": 7,\\n    \"gene_expression_analysis_summary\": 7,\\n    \"gene_expression_analysis_report\": 7,\\n    \"gene_expression_analysis_paper\": 7,\\n    \"gene_expression_analysis_article\": 7,\\n    \"gene_expression_analysis_study\": 7,\\n    \"gene_expression_analysis_research\": 7,\\n    \"gene_expression_analysis_investigation\": 7,\\n    \"gene_expression_analysis_exploration\": 7,\\n    \"gene_expression_analysis_examination\": 7,\\n    \"gene_expression_analysis_assessment\": 7,\\n    \"gene_expression_analysis_evaluation\": 7,\\n    \"gene_expression_analysis_review\": 7,\\n    \"gene_expression_analysis_survey\": 7,\\n    \"gene_expression_analysis_analysis\": 7,\\n    \"gene_expression_analysis_study\": 7,\\n    \"gene_expression_analysis_research\": 7,\\n    \"gene_expression_analysis_investigation\": 7,\\n    \"gene_expression_analysis_exploration\": 7,\\n    \"gene_expression_analysis_examination\": 7,\\n    \"gene_expression_analysis_assessment\": 7,\\n    \"gene_expression_analysis_evaluation\": 7,\\n    \"gene_expression_analysis_review\": 7,\\n    \"gene_expression_analysis_survey\": 7,\\n    \"gene_expression_analysis_analysis\": 7,\\n    \"gene_expression_analysis_study\": 7,\\n    \"gene_expression_analysis_research\": 7,\\n    \"gene_expression_analysis_investigation\": 7,\\n    \"gene_expression_analysis_exploration\": 7,\\n    \"gene_expression_analysis_examination\": 7,\\n    \"gene_expression_analysis_assessment\": 7,\\n    \"gene_expression_analysis_evaluation\": 7,\\n    \"gene_expression_analysis_review\": 7,\\n    \"gene_expression_analysis_survey\": 7,\\n    \"gene_expression_analysis_analysis\": 7,\\n    \"gene_expression_analysis_study\": 7,\\n    \"gene_expression_analysis_research\": 7,\\n    \"gene_expression_analysis_investigation\": 7,\\n    \"gene_expression_analysis_exploration\": 7,\\n    \"gene_expression_analysis_examination\": 7,\\n    \"gene_expression_analysis_assessment\": 7,\\n    \"gene_expression_analysis_evaluation\": 7,\\n    \"gene_expression_analysis_review\": 7,\\n    \"gene_expression_analysis_survey\": 7,\\n    \"gene_expression_analysis_analysis\": 7,\\n    \"gene_expression_analysis_study\": 7,\\n    \"gene_expression_analysis_research\": 7,\\n    \"gene_expression_analysis_investigation\": 7,\\n    \"gene_expression_analysis_exploration\": 7,\\n    \"gene_expression_analysis_examination\": 7,\\n    \"gene_expression_analysis_assessment\": 7,\\n    \"gene_expression_analysis_evaluation\": 7,\\n    \"gene_expression_analysis_review\": 7,\\n    \"gene_expression_analysis_survey\": 7,\\n    \"gene_expression_analysis_analysis\": 7,\\n    \"gene_expression_analysis_study\": 7,\\n    \"gene_expression_analysis_research\": 7,\\n    \"gene_expression_analysis_investigation\": 7,\\n    \"gene_expression_analysis_exploration\": 7,\\n    \"gene_expression_analysis_examination\": 7,\\n    \"gene_expression_analysis_assessment\": 7,\\n    \"gene_expression_analysis_evaluation\": 7,\\n    \"gene_expression_analysis_review\": 7,\\n    \"gene_expression_analysis_survey\": 7,\\n    \"gene_expression_analysis_analysis\": 7,\\n    \"gene_expression_analysis_study\": 7,\\n    \"gene_expression_analysis_research\": 7,\\n    \"gene_expression_analysis_investigation\": 7,\\n    \"gene_expression_analysis_exploration\": 7,\\n    \"gene_expression_analysis_examination\": 7,\\n    \"gene_expression_analysis_assessment\": 7,\\n    \"gene_expression_analysis_evaluation\": 7,\\n    \"gene_expression_analysis_review\": 7,\\n    \"gene_expression_analysis_survey\": 7,\\n    \"gene_expression_analysis_analysis\": 7,\\n    \"gene_expression_analysis_study\": 7,\\n    \"gene_expression_analysis_research\": 7,\\n    \"gene_expression_analysis_investigation\": 7,\\n    \"gene_expression_analysis_exploration\": 7,\\n    \"gene_expression_analysis_examination\": 7,\\n    \"gene_expression_analysis_assessment\": 7,\\n    \"gene_expression_analysis_evaluation\": 7,\\n    \"gene_expression_analysis_review\": 7,\\n    \"gene_expression_analysis_survey\": 7,\\n    \"gene_expression_analysis_analysis\": 7,\\n    \"gene_expression_analysis_study\": 7,\\n    \"gene_expression_analysis_research\": 7,\\n    \"gene_expression_analysis_investigation\": 7,\\n    \"gene_expression_analysis_exploration\": 7,\\n    \"gene_expression_analysis_examination\": 7,\\n    \"gene_expression_analysis_assessment\": 7,\\n    \"gene_expression_analysis_evaluation\": 7,\\n    \"gene_expression_analysis_review\": 7,\\n    \"gene_expression_analysis_survey\": 7,\\n    \"gene_expression_analysis_analysis\": 7,\\n    \"gene_expression_analysis_study\": 7,\\n    \"gene_expression_analysis_research\": 7,\\n    \"gene_expression_analysis_investigation\": 7,\\n    \"gene_expression_analysis_exploration\": 7,\\n    \"gene_expression_analysis_examination\": 7,\\n    \"gene_expression_analysis_assessment\": 7,\\n    \"gene_expression_analysis_evaluation\": 7,\\n    \"gene_expression_analysis_review\": 7,\\n    \"gene_expression_analysis_survey\": 7,\\n    \"gene_expression_analysis_analysis\": 7,\\n    \"gene_expression_analysis_study\": 7,\\n    \"gene_expression_analysis_research\": 7,\\n    \"gene_expression_analysis_investigation\": 7,\\n    \"gene_expression_analysis_exploration\": 7,\\n    \"gene_expression_analysis_examination\": 7,\\n    \"gene_expression_analysis_assessment\": 7,\\n    \"gene_expression_analysis_evaluation\": 7,\\n    \"gene_expression_analysis_review\": 7,\\n    \"gene_expression_analysis_survey\": 7,\\n    \"gene_expression_analysis_analysis\": 7,\\n    \"gene_expression_analysis_study\": 7,\\n    \"gene_expression_analysis_research\": 7,\\n    \"gene_expression_analysis_investigation\": 7,\\n    \"gene_expression_analysis_exploration\": 7,\\n    \"gene_expression_analysis_examination\": 7,\\n    \"gene_expression_analysis_assessment\": 7,\\n    \"gene_expression_analysis_evaluation\": 7,\\n    \"gene_expression_analysis_review\": 7,\\n    \"gene_expression_analysis_survey\": 7,\\n    \"gene_expression_analysis_analysis\": 7,\\n    \"gene_expression_analysis_study\": 7,\\n    \"gene_expression_analysis_research\": 7,\\n    \"gene_expression_analysis_investigation\": 7,\\n    \"gene_expression_analysis_exploration\": 7,\\n    \"gene_expression_analysis_examination\": 7,\\n    \"gene_expression_analysis_assessment\": 7,\\n    \"gene_expression_analysis_evaluation\": 7,\\n    \"gene_expression_analysis_review\": 7,\\n    \"gene_expression_analysis_survey\": 7,\\n    \"gene_expression_analysis_analysis\": 7,\\n    \"gene_expression_analysis_study\": 7,\\n    \"gene_expression_analysis_research\": 7,\\n    \"gene_expression_analysis_investigation\": 7,\\n    \"gene_expression_analysis_exploration\": 7,\\n    \"gene_expression_analysis_examination\": 7,\\n    \"gene_expression_analysis_assessment\": 7,\\n    \"gene_expression_analysis_evaluation\": 7,\\n    \"gene_expression_analysis_review\": 7,\\n    \"gene_expression_analysis_survey\": 7,\\n    \"gene_expression_analysis_analysis\": 7,\\n    \"gene_expression_analysis_study\": 7,\\n    \"gene_expression_analysis_research\": 7,\\n    \"gene_expression_analysis_investigation\": 7,\\n    \"gene_expression_analysis_exploration\": 7,\\n    \"gene_expression_analysis_examination\": 7,\\n    \"gene_expression_analysis_assessment\": 7,\\n    \"gene_expression_analysis_evaluation\": 7,\\n    \"gene_expression_analysis_review\": 7,\\n    \"gene_expression_analysis_survey\": 7,\\n    \"gene_expression_analysis_analysis\": 7,\\n    \"gene_expression_analysis_study\": 7,\\n    \"gene_expression_analysis_research\": 7,\\n    \"gene_expression_analysis_investigation\": 7,\\n    \"gene_expression_analysis_exploration\": 7,\\n    \"gene_expression_analysis_examination\": 7,\\n    \"gene_expression_analysis_assessment\": 7,\\n    \"gene_expression_analysis_evaluation\": 7,\\n    \"gene_expression_analysis_review\": 7,\\n    \"gene_expression_analysis_survey\": 7,\\n    \"gene_expression_analysis_analysis\": 7,\\n    \"gene_expression_analysis_study\": 7,\\n    \"gene_expression_analysis_research\": 7,\\n    \"gene_expression_analysis_investigation\": 7,\\n    \"gene_expression_analysis_exploration\": 7,\\n    \"gene_expression_analysis_examination\": 7,\\n    \"gene_expression_analysis_assessment\": 7,\\n    \"gene_expression_analysis_evaluation\": 7,\\n    \"gene_expression_analysis_review\": 7,\\n    \"gene_expression_analysis_survey\": 7,\\n    \"gene_expression_analysis_analysis\": 7,\\n    \"gene_expression_analysis_study\": 7,\\n    \"gene_expression_analysis_research\": 7,\\n    \"gene_expression_analysis_investigation\": 7,\\n    \"gene_expression_analysis_exploration\": 7,\\n    \"gene_expression_analysis_examination\": 7,\\n    \"gene_expression_analysis_assessment\": 7,\\n    \"gene_expression_analysis_evaluation\": 7,\\n    \"gene_expression_analysis_review\": 7,\\n    \"gene_expression_analysis_survey\": 7,\\n    \"gene_expression_analysis_analysis\": 7,\\n    \"gene_expression_analysis_study\": 7,\\n    \"gene_expression_analysis_research\": 7,\\n    \"gene_expression_analysis_investigation\": 7,\\n    \"gene_expression_analysis_exploration\": 7,\\n    \"gene_expression_analysis_examination\": 7,\\n    \"gene_expression_analysis_assessment\": 7,\\n    \"gene_expression_analysis_evaluation\": 7,\\n    \"gene_expression_analysis_review\": 7,\\n    \"gene_expression_analysis_survey\": 7,\\n    \"gene_expression_analysis_analysis\": 7,\\n    \"gene_expression_analysis_study\": 7,\\n    \"gene_expression_analysis_research\": 7,\\n    \"gene_expression_analysis_investigation\": 7,\\n    \"gene_expression_analysis_exploration\": 7,\\n    \"gene_expression_analysis_examination\": 7,\\n    \"gene_expression_analysis_assessment\": 7,\\n    \"gene_expression_analysis_evaluation\": 7,\\n    \"gene_expression_analysis_review\": 7,\\n    \"gene_expression_analysis_survey\": 7,\\n    \"gene_expression_analysis_analysis\": 7,\\n    \"gene_expression_analysis_study\": 7,\\n    \"gene_expression_analysis_research\": 7,\\n    \"gene_expression_analysis_investigation\": 7,\\n    \"gene_expression_analysis_exploration\": 7,\\n    \"gene_expression_analysis_examination\": 7,\\n    \"gene_expression_analysis_assessment\": 7,\\n    \"gene_expression_analysis_evaluation\": 7,\\n    \"gene_expression_analysis_review\": 7,\\n    \"gene_expression_analysis_survey\": 7,\\n    \"gene_expression_analysis_analysis\": 7,\\n    \"gene_expression_analysis_study\": 7,\\n    \"gene_expression_analysis_research\": 7,\\n    \"gene_expression_analysis_investigation\": 7,\\n    \"gene_expression_analysis_exploration\": 7,\\n    \"gene_expression_analysis_examination\": 7,\\n    \"gene_expression_analysis_assessment\": 7,\\n    \"gene_expression_analysis_evaluation\": 7,\\n    \"gene_expression_analysis_review\": 7,\\n    \"gene_expression_analysis_survey\": 7,\\n    \"gene_expression_analysis_analysis\": 7,\\n    \"gene_expression_analysis_study\": 7,\\n    \"gene_expression_analysis_research\": 7,\\n    \"gene_expression_analysis_investigation\": 7,\\n    \"gene_expression_analysis_exploration\": 7,\\n    \"gene_expression_analysis_examination\": 7,\\n    \"gene_expression_analysis_assessment\": 7,\\n    \"gene_expression_analysis_evaluation\": 7,\\n    \"gene'"
      ]
     },
     "execution_count": 21,
     "metadata": {},
     "output_type": "execute_result"
    }
   ],
   "source": [
    "json_str"
   ]
  },
  {
   "cell_type": "code",
   "execution_count": 7,
   "metadata": {},
   "outputs": [
    {
     "name": "stderr",
     "output_type": "stream",
     "text": [
      "<string>:4: SyntaxWarning: invalid escape sequence '\\{'\n",
      "<>:4: SyntaxWarning: invalid escape sequence '\\{'\n",
      "<string>:4: SyntaxWarning: invalid escape sequence '\\{'\n",
      "<>:4: SyntaxWarning: invalid escape sequence '\\{'\n",
      "C:\\Users\\danibacaicoa\\AppData\\Local\\Temp\\ipykernel_52292\\3235079148.py:4: SyntaxWarning: invalid escape sequence '\\{'\n",
      "  file_name = f'Keywords_datasets\\{w0}_keywords_{fecha.year}{fecha.month:02d}{fecha.day:02d}.pickle'\n"
     ]
    }
   ],
   "source": [
    "if Read == False:\n",
    "    L = [L0,L1]\n",
    "    fecha = datetime.now()\n",
    "    file_name = f'Keywords_datasets\\{w0}_keywords_{fecha.year}{fecha.month:02d}{fecha.day:02d}.pickle'\n",
    "\n",
    "    # We could do it with:\n",
    "    f = open(file_name, 'wb')\n",
    "    pickle.dump(L, f)\n",
    "    f.close()\n",
    "\n",
    "    ##Or\n",
    "    #with open('data.pickle', 'wb') as f:\n",
    "    #    pickle.dump(data, f)\n"
   ]
  },
  {
   "cell_type": "code",
   "execution_count": 8,
   "metadata": {},
   "outputs": [
    {
     "name": "stderr",
     "output_type": "stream",
     "text": [
      "<>:2: SyntaxWarning: invalid escape sequence '\\c'\n",
      "<>:2: SyntaxWarning: invalid escape sequence '\\c'\n",
      "C:\\Users\\danibacaicoa\\AppData\\Local\\Temp\\ipykernel_58636\\2377652600.py:2: SyntaxWarning: invalid escape sequence '\\c'\n",
      "  f = open('Keywords_datasets\\cancer_keywords_20240417.pickle', 'rb')\n"
     ]
    }
   ],
   "source": [
    "if Read == True:\n",
    "    f = open('Keywords_datasets\\cancer_keywords_20240417.pickle', 'rb')\n",
    "    L = pickle.load(f)\n",
    "    f.close()\n",
    "\n",
    "    #with open('data.pickle', 'rb') as f:\n",
    "    #    loaded_data = pickle.load(f)"
   ]
  },
  {
   "cell_type": "code",
   "execution_count": 16,
   "metadata": {},
   "outputs": [
    {
     "name": "stdout",
     "output_type": "stream",
     "text": [
      "1\n",
      "40\n"
     ]
    }
   ],
   "source": [
    "print(len(L[0]))\n",
    "print(len(L[1]))"
   ]
  },
  {
   "cell_type": "code",
   "execution_count": 20,
   "metadata": {},
   "outputs": [
    {
     "name": "stdout",
     "output_type": "stream",
     "text": [
      "41\n"
     ]
    }
   ],
   "source": [
    "print(len(L[0][0]))"
   ]
  },
  {
   "cell_type": "code",
   "execution_count": 18,
   "metadata": {},
   "outputs": [
    {
     "name": "stdout",
     "output_type": "stream",
     "text": [
      "62\n",
      "165\n",
      "75\n",
      "79\n",
      "69\n",
      "75\n",
      "22\n",
      "74\n",
      "26\n",
      "104\n",
      "55\n",
      "32\n",
      "81\n",
      "26\n",
      "52\n",
      "59\n",
      "80\n",
      "174\n",
      "35\n",
      "76\n",
      "30\n",
      "92\n",
      "50\n",
      "64\n",
      "31\n",
      "131\n",
      "79\n",
      "88\n",
      "81\n",
      "57\n",
      "26\n",
      "93\n",
      "197\n",
      "75\n",
      "103\n",
      "85\n",
      "111\n",
      "103\n",
      "11\n",
      "81\n"
     ]
    }
   ],
   "source": [
    "for dictionary in L[1]:\n",
    "    print(len(dictionary))"
   ]
  },
  {
   "cell_type": "code",
   "execution_count": 21,
   "metadata": {},
   "outputs": [
    {
     "name": "stdout",
     "output_type": "stream",
     "text": [
      "{'tumor': 0, 'cancer': 10, 'cells': 9, 'growth': 8, 'treatment': 7, 'metastasis': 6, 'biopsy': 5, 'mutation': 4, 'chemotherapy': 3, 'radiation': 2, 'prognosis': 1, 'oncogene': 0, 'apoptosis': 10, 'angiogenesis': 9, 'carcinoma': 8, 'malignant': 7, 'benign': 6, 'invasion': 5, 'immunotherapy': 4, 'tumor suppressor': 3, 'diagnosis': 2, 'risk factors': 1, 'genetics': 0, 'proliferation': 10, 'tumor markers': 9, 'surgery': 8, 'targeted therapy': 7, 'recurrence': 6, 'prostate': 10, 'lymph nodes': 4, 'melanoma': 7, 'glioblastoma': 2, 'leukemia': 1, 'sarcoma': 0, 'inflammation': 10, 'prevention': 9, 'screening': 8, 'breast': 6, 'lung': 5, 'colon': 4, 'pancreatic': 3, 'ovarian': 2, 'brain': 1, 'liver': 0, 'staging': 9, 'lymphoma': 8, 'tissue': 7, 'prostate-specific antigen': 6, 'hormone therapy': 5, 'biomarkers': 4, 'prostatectomy': 3, 'testicular': 2, 'bladder': 1, 'kidney': 0, 'metastatic': 10, 'tumor microenvironment': 0, 'clinical trials': 8, 'immunosuppression': 7, 'prognostic factors': 6, 'tumor heterogeneity': 5, 'microRNA': 4, 'epigenetics': 3}\n"
     ]
    }
   ],
   "source": [
    "print(L[1][0])"
   ]
  },
  {
   "cell_type": "code",
   "execution_count": null,
   "metadata": {},
   "outputs": [],
   "source": []
  }
 ],
 "metadata": {
  "kernelspec": {
   "display_name": ".venv",
   "language": "python",
   "name": "python3"
  },
  "language_info": {
   "codemirror_mode": {
    "name": "ipython",
    "version": 3
   },
   "file_extension": ".py",
   "mimetype": "text/x-python",
   "name": "python",
   "nbconvert_exporter": "python",
   "pygments_lexer": "ipython3",
   "version": "3.12.2"
  }
 },
 "nbformat": 4,
 "nbformat_minor": 2
}
